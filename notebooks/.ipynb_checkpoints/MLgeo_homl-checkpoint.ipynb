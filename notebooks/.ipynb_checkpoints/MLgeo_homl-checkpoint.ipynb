{
 "cells": [
  {
   "cell_type": "code",
   "execution_count": 1,
   "metadata": {},
   "outputs": [],
   "source": [
    "import pandas as pd\n",
    "import numpy as np\n",
    "import os, sklearn\n",
    "\n",
    "from sklearn.model_selection import StratifiedShuffleSplit, train_test_split,cross_val_score, cross_val_predict\n",
    "from sklearn.metrics import confusion_matrix, precision_score, recall_score\n",
    "\n",
    "from get_coords import get_coords\n",
    "\n",
    "# to make this notebook's output stable across runs\n",
    "np.random.seed(42)\n",
    "\n",
    "# To plot pretty figures\n",
    "%matplotlib inline\n",
    "import matplotlib as mpl\n",
    "import matplotlib.pyplot as plt\n",
    "mpl.rc('axes', labelsize=14)\n",
    "mpl.rc('xtick', labelsize=12)\n",
    "mpl.rc('ytick', labelsize=12)"
   ]
  },
  {
   "cell_type": "code",
   "execution_count": null,
   "metadata": {},
   "outputs": [],
   "source": []
  },
  {
   "cell_type": "markdown",
   "metadata": {},
   "source": [
    "#### Identify Directories"
   ]
  },
  {
   "cell_type": "code",
   "execution_count": 2,
   "metadata": {},
   "outputs": [],
   "source": [
    "currDir = os.getcwd()\n",
    "rootDir = os.path.abspath(os.path.join(currDir,'..'))\n",
    "\n",
    "dataDir = os.path.abspath(os.path.join(rootDir,'data'))\n",
    "rawDataDir = os.path.abspath(os.path.join(dataDir,'raw'))\n",
    "interimDataDir = os.path.abspath(os.path.join(dataDir,'interim'))\n",
    "finalDataDir = os.path.abspath(os.path.join(dataDir,'final'))"
   ]
  },
  {
   "cell_type": "code",
   "execution_count": null,
   "metadata": {},
   "outputs": [],
   "source": []
  },
  {
   "cell_type": "markdown",
   "metadata": {},
   "source": [
    "#### Helper Functions"
   ]
  },
  {
   "cell_type": "code",
   "execution_count": 3,
   "metadata": {},
   "outputs": [],
   "source": [
    "def evaluate_model(model,X_train,y_train,cv_folds=5):\n",
    "        \n",
    "    predictions   = cross_val_predict(model, X_train, y_train, cv=cv_folds)\n",
    "\n",
    "    cv_accuracies = cross_val_score(model, X_train, y_train, \n",
    "                                    cv=cv_folds, scoring=\"accuracy\")\n",
    "        \n",
    "    conf_matrix = confusion_matrix(y_train, predictions)\n",
    "    \n",
    "    try:\n",
    "        # only for binary classification\n",
    "        precision = precision_score(y_train, predictions)\n",
    "        recall    = recall_score(y_train, predictions)\n",
    "    except:\n",
    "        # for multi-class classification\n",
    "        precision = precision_score(y_train, predictions, average=None)\n",
    "        recall    = recall_score(y_train, predictions, average=None)\n",
    "        \n",
    "\n",
    "    #### PRINT KEY DATA ####\n",
    "    \n",
    "    print(f\"{cv_folds} Cross Validations\")\n",
    "    print(\"Mean CV Accuracy\",np.round(np.mean(cv_accuracies),2))\n",
    "    print(\"CV Accuracies:\",cv_accuracies)\n",
    "    print(\"\\n\") \n",
    "    \n",
    "    print(\"Confusion Matrix:\")\n",
    "    print(conf_matrix)\n",
    "    print(\"\\n\") \n",
    "    \n",
    "    print(\"Precision Score:\",np.round(precision,2))\n",
    "    print('Recall Score:',np.round(recall,2))\n",
    "    \n",
    "    #### RETURN DATA\n",
    "    \n",
    "    return predictions, conf_matrix"
   ]
  },
  {
   "cell_type": "code",
   "execution_count": null,
   "metadata": {},
   "outputs": [],
   "source": []
  },
  {
   "cell_type": "markdown",
   "metadata": {},
   "source": [
    "#### Access Data"
   ]
  },
  {
   "cell_type": "code",
   "execution_count": 4,
   "metadata": {},
   "outputs": [],
   "source": [
    "bbox = (-124,24,-67,50)\n",
    "\n",
    "states = [\"Alabama\",\"Alaska\",\"Arizona\",\"Arkansas\",\"California\",\"Colorado\",\n",
    "          \"Connecticut\",\"Delaware\",\"Florida\",\"Georgia\",\"Hawaii\",\"Idaho\",\"Illinois\",\n",
    "          \"Indiana\",\"Iowa\",\"Kansas\",\"Kentucky\",\"Louisiana\",\"Maine\",\"Maryland\",\n",
    "          \"Massachusetts\",\"Michigan\",\"Minnesota\",\"Mississippi\",\"Missouri\",\"Montana\",\n",
    "          \"Nebraska\",\"Nevada\",\"New Hampshire\",\"New Jersey\",\"New Mexico\",\"New York\",\n",
    "          \"North Carolina\",\"North Dakota\",\"Ohio\",\"Oklahoma\",\"Oregon\",\"Pennsylvania\",\n",
    "          \"Rhode Island\",\"South Carolina\",\"South Dakota\",\"Tennessee\",\"Texas\",\"Utah\",\n",
    "          \"Vermont\",\"Virginia\",\"Washington\",\"West Virginia\",\"Wisconsin\",\"Wyoming\"]\n",
    "    "
   ]
  },
  {
   "cell_type": "code",
   "execution_count": 5,
   "metadata": {},
   "outputs": [
    {
     "name": "stdout",
     "output_type": "stream",
     "text": [
      "/Users/Michael/Documents/Projects/MLgeo/data/raw//reverse_US_geocode_results_pull7.csv\n",
      "(15033, 9)\n"
     ]
    }
   ],
   "source": [
    "geo = get_coords(rawDataDir)\n",
    "df  = geo.load_data()\n",
    "\n",
    "print(geo.filename)\n",
    "print(df.shape)"
   ]
  },
  {
   "cell_type": "code",
   "execution_count": 6,
   "metadata": {},
   "outputs": [
    {
     "name": "stdout",
     "output_type": "stream",
     "text": [
      "<class 'pandas.core.frame.DataFrame'>\n",
      "RangeIndex: 15033 entries, 0 to 15032\n",
      "Data columns (total 9 columns):\n",
      "area          13352 non-null object\n",
      "city          15033 non-null object\n",
      "country       15033 non-null object\n",
      "gps_lat       15033 non-null float64\n",
      "gps_long      15033 non-null float64\n",
      "lat           15033 non-null float64\n",
      "long          15033 non-null float64\n",
      "state         15001 non-null object\n",
      "state_flag    15033 non-null object\n",
      "dtypes: float64(4), object(5)\n",
      "memory usage: 1.0+ MB\n"
     ]
    }
   ],
   "source": [
    "df.info()"
   ]
  },
  {
   "cell_type": "code",
   "execution_count": 7,
   "metadata": {},
   "outputs": [
    {
     "data": {
      "text/html": [
       "<div>\n",
       "<style scoped>\n",
       "    .dataframe tbody tr th:only-of-type {\n",
       "        vertical-align: middle;\n",
       "    }\n",
       "\n",
       "    .dataframe tbody tr th {\n",
       "        vertical-align: top;\n",
       "    }\n",
       "\n",
       "    .dataframe thead th {\n",
       "        text-align: right;\n",
       "    }\n",
       "</style>\n",
       "<table border=\"1\" class=\"dataframe\">\n",
       "  <thead>\n",
       "    <tr style=\"text-align: right;\">\n",
       "      <th></th>\n",
       "      <th>area</th>\n",
       "      <th>city</th>\n",
       "      <th>country</th>\n",
       "      <th>gps_lat</th>\n",
       "      <th>gps_long</th>\n",
       "      <th>lat</th>\n",
       "      <th>long</th>\n",
       "      <th>state</th>\n",
       "      <th>state_flag</th>\n",
       "    </tr>\n",
       "  </thead>\n",
       "  <tbody>\n",
       "    <tr>\n",
       "      <th>0</th>\n",
       "      <td>Shelby County</td>\n",
       "      <td>Timpson</td>\n",
       "      <td>US</td>\n",
       "      <td>31.78</td>\n",
       "      <td>-94.33</td>\n",
       "      <td>31.90378</td>\n",
       "      <td>-94.39520</td>\n",
       "      <td>Texas</td>\n",
       "      <td>Texas</td>\n",
       "    </tr>\n",
       "    <tr>\n",
       "      <th>1</th>\n",
       "      <td>Richland County</td>\n",
       "      <td>Olney</td>\n",
       "      <td>US</td>\n",
       "      <td>38.77</td>\n",
       "      <td>-88.01</td>\n",
       "      <td>38.73088</td>\n",
       "      <td>-88.08532</td>\n",
       "      <td>Illinois</td>\n",
       "      <td>Illinois</td>\n",
       "    </tr>\n",
       "  </tbody>\n",
       "</table>\n",
       "</div>"
      ],
      "text/plain": [
       "              area     city country  gps_lat  gps_long       lat      long  \\\n",
       "0    Shelby County  Timpson      US    31.78    -94.33  31.90378 -94.39520   \n",
       "1  Richland County    Olney      US    38.77    -88.01  38.73088 -88.08532   \n",
       "\n",
       "      state state_flag  \n",
       "0     Texas      Texas  \n",
       "1  Illinois   Illinois  "
      ]
     },
     "execution_count": 7,
     "metadata": {},
     "output_type": "execute_result"
    }
   ],
   "source": [
    "df.head(2)"
   ]
  },
  {
   "cell_type": "code",
   "execution_count": 8,
   "metadata": {},
   "outputs": [],
   "source": [
    "#df['state_flag'].value_counts()/len(df)"
   ]
  },
  {
   "cell_type": "code",
   "execution_count": null,
   "metadata": {},
   "outputs": [],
   "source": []
  },
  {
   "cell_type": "markdown",
   "metadata": {},
   "source": [
    "#### (Stratified) Train Test Split"
   ]
  },
  {
   "cell_type": "code",
   "execution_count": 9,
   "metadata": {},
   "outputs": [
    {
     "name": "stdout",
     "output_type": "stream",
     "text": [
      "Training set size: 10523\n",
      "Test set size: 4510\n"
     ]
    }
   ],
   "source": [
    "'''\n",
    "# separate data and labels into X and y arrays\n",
    "X = df[['gps_lat','gps_long']].values\n",
    "y = df['state_flag'].values\n",
    "\n",
    "# perform NON-STRATIFIED train test split\n",
    "X_train, X_test, y_train, y_test = train_test_split(X,y,test_size=0.20,random_state=42)\n",
    "'''\n",
    "\n",
    "# perform stratified random shuffling \n",
    "splitter = StratifiedShuffleSplit(n_splits=1,test_size=0.3,random_state=42)\n",
    "for train_idx,test_idx in splitter.split(df,df['state_flag']):\n",
    "    strat_train_set = df.loc[train_idx]\n",
    "    strat_test_set = df.loc[test_idx]\n",
    "\n",
    "# create train/test sets from stratified shuffle\n",
    "X_train, X_test = strat_train_set[['gps_lat','gps_long']].values, strat_test_set[['gps_lat','gps_long']].values\n",
    "y_train, y_test = strat_train_set['state_flag'].values, strat_test_set['state_flag'].values\n",
    "\n",
    "print(\"Training set size:\",len(strat_train_set))\n",
    "print(\"Test set size:\",len(strat_test_set))"
   ]
  },
  {
   "cell_type": "code",
   "execution_count": null,
   "metadata": {},
   "outputs": [],
   "source": []
  },
  {
   "cell_type": "markdown",
   "metadata": {},
   "source": [
    "#### Binary Classifier"
   ]
  },
  {
   "cell_type": "code",
   "execution_count": 10,
   "metadata": {},
   "outputs": [
    {
     "name": "stdout",
     "output_type": "stream",
     "text": [
      "Training set size: 10523\n",
      "Test set size: 4510\n"
     ]
    }
   ],
   "source": [
    "# True = USA \n",
    "# False = non-USA\n",
    "\n",
    "y_train_binary = ~(y_train == 'None')\n",
    "y_test_binary  = ~(y_test == 'None')\n",
    "\n",
    "print(\"Training set size:\",len(y_train_binary))\n",
    "print(\"Test set size:\",len(y_test_binary))"
   ]
  },
  {
   "cell_type": "code",
   "execution_count": 21,
   "metadata": {},
   "outputs": [],
   "source": [
    "# fit stochastic gradient descent classifier\n",
    "from sklearn.linear_model import SGDClassifier\n",
    "\n",
    "sgd = SGDClassifier(max_iter=1000, tol=1e-3,\n",
    "                        random_state=42,verbose=0)\n",
    "sgd.fit(X_train, y_train_binary);\n",
    "\n",
    "\n",
    "# fit random forest classifier\n",
    "from sklearn.ensemble import RandomForestClassifier\n",
    "\n",
    "rf_binary = RandomForestClassifier(n_estimators=100, random_state=42)\n",
    "rf_binary.fit(X_train, y_train_binary);\n",
    "\n",
    "# fit support vector machine classifier\n",
    "from sklearn import svm\n",
    "\n",
    "svc = svm.SVC(gamma='auto')\n",
    "svc.fit(X_train, y_train_binary);\n"
   ]
  },
  {
   "cell_type": "code",
   "execution_count": null,
   "metadata": {},
   "outputs": [],
   "source": []
  },
  {
   "cell_type": "code",
   "execution_count": 12,
   "metadata": {},
   "outputs": [
    {
     "data": {
      "text/plain": [
       "\"\\nk = 2019\\npred = sgd.predict([X_test[k]])\\n\\nprint('Label:',y_test_binary[k])\\nprint('Prediction:',pred[0])\\n\""
      ]
     },
     "execution_count": 12,
     "metadata": {},
     "output_type": "execute_result"
    }
   ],
   "source": [
    "# make a prediction \n",
    "'''\n",
    "k = 2019\n",
    "pred = sgd.predict([X_test[k]])\n",
    "\n",
    "print('Label:',y_test_binary[k])\n",
    "print('Prediction:',pred[0])\n",
    "'''"
   ]
  },
  {
   "cell_type": "code",
   "execution_count": null,
   "metadata": {},
   "outputs": [],
   "source": []
  },
  {
   "cell_type": "code",
   "execution_count": 13,
   "metadata": {},
   "outputs": [
    {
     "name": "stdout",
     "output_type": "stream",
     "text": [
      "5 Cross Validations\n",
      "Mean CV Accuracy 0.66\n",
      "CV Accuracies: [0.76342043 0.76674584 0.77624703 0.27410926 0.70851165]\n",
      "\n",
      "\n",
      "Confusion Matrix:\n",
      "[[ 559 1930]\n",
      " [1671 6363]]\n",
      "\n",
      "\n",
      "Precision Score: 0.77\n",
      "Recall Score: 0.79\n"
     ]
    }
   ],
   "source": [
    "# evaluate SGD model\n",
    "preds, conf_matrix = evaluate_model(sgd,X_train,y_train_binary,cv_folds=5)"
   ]
  },
  {
   "cell_type": "code",
   "execution_count": 14,
   "metadata": {},
   "outputs": [
    {
     "name": "stdout",
     "output_type": "stream",
     "text": [
      "5 Cross Validations\n",
      "Mean CV Accuracy 0.99\n",
      "CV Accuracies: [0.99049881 0.98907363 0.99144893 0.98859857 0.99096529]\n",
      "\n",
      "\n",
      "Confusion Matrix:\n",
      "[[2426   63]\n",
      " [  41 7993]]\n",
      "\n",
      "\n",
      "Precision Score: 0.99\n",
      "Recall Score: 0.99\n"
     ]
    }
   ],
   "source": [
    "# Evaluate binary RF model\n",
    "preds, conf_matrix = evaluate_model(rf_binary,X_train,y_train_binary,cv_folds=5)"
   ]
  },
  {
   "cell_type": "code",
   "execution_count": 22,
   "metadata": {},
   "outputs": [
    {
     "name": "stdout",
     "output_type": "stream",
     "text": [
      "5 Cross Validations\n",
      "Mean CV Accuracy 0.99\n",
      "CV Accuracies: [0.9871734  0.9871734  0.98669834 0.98432304 0.98811222]\n",
      "\n",
      "\n",
      "Confusion Matrix:\n",
      "[[2410   79]\n",
      " [  61 7973]]\n",
      "\n",
      "\n",
      "Precision Score: 0.99\n",
      "Recall Score: 0.99\n"
     ]
    }
   ],
   "source": [
    "# Evaluate SVM model\n",
    "preds, conf_matrix = evaluate_model(svc,X_train,y_train_binary,cv_folds=5)\n",
    "\n",
    "# SVM (w/ gamma = 'auto' )performs only very slightly worse than binary RF"
   ]
  },
  {
   "cell_type": "code",
   "execution_count": null,
   "metadata": {},
   "outputs": [],
   "source": []
  },
  {
   "cell_type": "markdown",
   "metadata": {},
   "source": [
    "#### Multi-Class Classification"
   ]
  },
  {
   "cell_type": "code",
   "execution_count": null,
   "metadata": {},
   "outputs": [],
   "source": []
  },
  {
   "cell_type": "code",
   "execution_count": 17,
   "metadata": {},
   "outputs": [],
   "source": [
    "# perform random forest regression\n",
    "\n",
    "rf = RandomForestClassifier(n_estimators=100, random_state=42)\n",
    "rf.fit(X_train, y_train);"
   ]
  },
  {
   "cell_type": "code",
   "execution_count": 18,
   "metadata": {},
   "outputs": [
    {
     "name": "stderr",
     "output_type": "stream",
     "text": [
      "/Users/Michael/anaconda3/envs/web-scrape-env/lib/python3.6/site-packages/sklearn/model_selection/_split.py:657: Warning: The least populated class in y has only 1 members, which is too few. The minimum number of members in any class cannot be less than n_splits=5.\n",
      "  % (min_groups, self.n_splits)), Warning)\n",
      "/Users/Michael/anaconda3/envs/web-scrape-env/lib/python3.6/site-packages/sklearn/model_selection/_split.py:657: Warning: The least populated class in y has only 1 members, which is too few. The minimum number of members in any class cannot be less than n_splits=5.\n",
      "  % (min_groups, self.n_splits)), Warning)\n"
     ]
    },
    {
     "name": "stdout",
     "output_type": "stream",
     "text": [
      "5 Cross Validations\n",
      "Mean CV Accuracy 0.97\n",
      "CV Accuracies: [0.9670898  0.96976854 0.96817102 0.9708413  0.97070125]\n",
      "\n",
      "\n",
      "Confusion Matrix:\n",
      "[[38  0  0 ...  0  0  0]\n",
      " [ 0 64  0 ...  0  0  0]\n",
      " [ 0  0 25 ...  0  0  0]\n",
      " ...\n",
      " [ 0  0  0 ... 11  0  0]\n",
      " [ 0  0  0 ...  0 30  0]\n",
      " [ 0  0  0 ...  0  0 60]]\n",
      "\n",
      "\n",
      "Precision Score: [0.95 0.93 0.93 0.99 0.96 0.33 0.   0.95 0.88 0.89 0.9  0.75 0.94 0.96\n",
      " 0.89 0.93 0.88 0.75 0.85 0.93 0.91 0.95 0.88 0.96 0.92 0.92 0.75 0.83\n",
      " 0.95 0.8  0.97 0.93 0.94 0.96 0.83 0.98 0.93 0.   0.85 0.94 0.94 0.94\n",
      " 0.92 0.8  0.9  0.97 1.   0.83 0.91]\n",
      "Recall Score: [0.88 0.89 0.89 0.99 0.94 0.33 0.   0.97 0.88 0.92 0.88 0.83 0.98 0.96\n",
      " 0.89 0.97 0.75 0.67 0.89 0.85 0.89 0.83 0.88 0.94 0.94 0.92 0.5  0.79\n",
      " 0.98 0.83 0.98 0.92 0.94 0.93 0.93 0.98 0.93 0.   0.77 0.94 0.97 0.92\n",
      " 0.98 0.8  0.97 0.97 0.85 0.77 0.9 ]\n"
     ]
    },
    {
     "name": "stderr",
     "output_type": "stream",
     "text": [
      "/Users/Michael/anaconda3/envs/web-scrape-env/lib/python3.6/site-packages/sklearn/metrics/classification.py:1437: UndefinedMetricWarning: Precision is ill-defined and being set to 0.0 in labels with no predicted samples.\n",
      "  'precision', 'predicted', average, warn_for)\n"
     ]
    }
   ],
   "source": [
    "# Evaluate RF model\n",
    "preds, conf_matrix = evaluate_model(rf,X_train,y_train,cv_folds=5)"
   ]
  },
  {
   "cell_type": "code",
   "execution_count": 19,
   "metadata": {},
   "outputs": [
    {
     "data": {
      "image/png": "[encoded data removed]",
      "text/plain": [
       "<Figure size 288x288 with 1 Axes>"
      ]
     },
     "metadata": {
      "needs_background": "light"
     },
     "output_type": "display_data"
    }
   ],
   "source": [
    "plt.matshow(conf_matrix, cmap=plt.cm.gray);"
   ]
  },
  {
   "cell_type": "code",
   "execution_count": null,
   "metadata": {},
   "outputs": [],
   "source": []
  },
  {
   "cell_type": "code",
   "execution_count": null,
   "metadata": {},
   "outputs": [],
   "source": []
  },
  {
   "cell_type": "code",
   "execution_count": null,
   "metadata": {},
   "outputs": [],
   "source": []
  },
  {
   "cell_type": "code",
   "execution_count": 20,
   "metadata": {},
   "outputs": [
    {
     "data": {
      "text/plain": [
       "'\\nPIPELINING\\n\\n    stratified sampling with respect to US states\\n    create + save test set \\n    shuffle training set\\n    add more data (check that pipeline can handle making test sets w/ added data)\\n    median imputer\\n    custom transformation\\n    standard data prep pipeline\\n    regular data prep pipeline\\n    \\nCLASSIFICATION\\n    \\n    BINARY - only in/out of US (stochastic GD algo)\\n    cross validation!\\n    model evaluation (accuracy + confusion matrix)\\n    understand precision + recall\\n    play around with decision thresholds\\n    come up with doofy custom estimator (and validate)\\n    MULTI-CLASS classification (and validate)\\n        SGD + RF + SVM\\n    plot random forest solution\\n    tune model (grid search)\\n    \\nSPAM + HAM EXERCISE\\n\\n'"
      ]
     },
     "execution_count": 20,
     "metadata": {},
     "output_type": "execute_result"
    }
   ],
   "source": [
    "'''\n",
    "PIPELINING\n",
    "\n",
    "    stratified sampling with respect to US states\n",
    "    create + save test set \n",
    "    shuffle training set\n",
    "    add more data (check that pipeline can handle making test sets w/ added data)\n",
    "    median imputer\n",
    "    custom transformation\n",
    "    standard data prep pipeline\n",
    "    regular data prep pipeline\n",
    "    \n",
    "CLASSIFICATION\n",
    "    \n",
    "    BINARY - only in/out of US (stochastic GD algo)\n",
    "    cross validation!\n",
    "    model evaluation (accuracy + confusion matrix)\n",
    "    understand precision + recall\n",
    "    play around with decision thresholds\n",
    "    come up with doofy custom estimator (and validate)\n",
    "    MULTI-CLASS classification (and validate)\n",
    "        SGD + RF + SVM\n",
    "    plot random forest solution\n",
    "    tune model (grid search)\n",
    "    custom ensemble classifier\n",
    "    \n",
    "SPAM + HAM EXERCISE\n",
    "\n",
    "'''"
   ]
  },
  {
   "cell_type": "code",
   "execution_count": null,
   "metadata": {},
   "outputs": [],
   "source": []
  },
  {
   "cell_type": "code",
   "execution_count": null,
   "metadata": {},
   "outputs": [],
   "source": []
  }
 ],
 "metadata": {
  "kernelspec": {
   "display_name": "web-scraper",
   "language": "python",
   "name": "web-scraper"
  },
  "language_info": {
   "codemirror_mode": {
    "name": "ipython",
    "version": 3
   },
   "file_extension": ".py",
   "mimetype": "text/x-python",
   "name": "python",
   "nbconvert_exporter": "python",
   "pygments_lexer": "ipython3",
   "version": "3.6.3"
  }
 },
 "nbformat": 4,
 "nbformat_minor": 2
}
