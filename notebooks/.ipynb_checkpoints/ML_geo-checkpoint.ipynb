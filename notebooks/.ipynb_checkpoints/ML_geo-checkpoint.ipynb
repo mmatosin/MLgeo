{
 "cells": [
  {
   "cell_type": "code",
   "execution_count": 253,
   "metadata": {},
   "outputs": [],
   "source": [
    "import pandas as pd\n",
    "import numpy as np\n",
    "import os, time, random"
   ]
  },
  {
   "cell_type": "code",
   "execution_count": null,
   "metadata": {},
   "outputs": [],
   "source": []
  },
  {
   "cell_type": "markdown",
   "metadata": {},
   "source": [
    "#### Web Scraping Lat/Longitudes (w/ Selenium)"
   ]
  },
  {
   "cell_type": "code",
   "execution_count": 254,
   "metadata": {},
   "outputs": [],
   "source": [
    "from selenium import webdriver\n",
    "from bs4 import BeautifulSoup\n",
    "import urllib\n",
    "\n",
    "# https://pythonprogramming.net/urllib-tutorial-python-3/\n",
    "# https://www.linkedin.com/pulse/how-easy-scraping-data-from-linkedin-profiles-david-craven/"
   ]
  },
  {
   "cell_type": "code",
   "execution_count": 255,
   "metadata": {},
   "outputs": [
    {
     "data": {
      "text/plain": [
       "'\\ndriver_path = \"/Users/Michael/chromedriver\"\\ndriver = webdriver.Chrome(driver_path)\\n\\nsoup.find(\"input\",id=\"latitude\")\\nsoup.find(\"input\",id=\"longitude\")\\n\\nAustralia bounding box: (\\'Australia\\', (113.338953078, -43.6345972634, 153.569469029, -10.6681857235))\\nfound here: https://gist.github.com/graydon/11198540\\n\\ncoordinates = [(-33.86,151.2),\\n               (113.338953078, -43.6345972634),\\n               (153.569469029, -10.6681857235)\\n               \\n              \\n              ]\\n\\n\\n'"
      ]
     },
     "execution_count": 255,
     "metadata": {},
     "output_type": "execute_result"
    }
   ],
   "source": [
    "'''\n",
    "driver_path = \"/Users/Michael/chromedriver\"\n",
    "driver = webdriver.Chrome(driver_path)\n",
    "\n",
    "soup.find(\"input\",id=\"latitude\")\n",
    "soup.find(\"input\",id=\"longitude\")\n",
    "\n",
    "Australia bounding box: ('Australia', (113.338953078, -43.6345972634, 153.569469029, -10.6681857235))\n",
    "found here: https://gist.github.com/graydon/11198540\n",
    "\n",
    "coordinates = [(-33.86,151.2),\n",
    "               (113.338953078, -43.6345972634),\n",
    "               (153.569469029, -10.6681857235)\n",
    "               \n",
    "              \n",
    "              ]\n",
    "\n",
    "\n",
    "'''"
   ]
  },
  {
   "cell_type": "code",
   "execution_count": null,
   "metadata": {},
   "outputs": [],
   "source": []
  },
  {
   "cell_type": "code",
   "execution_count": 256,
   "metadata": {},
   "outputs": [
    {
     "data": {
      "text/plain": [
       "'\\n# coordinates = (lat,long)\\ncoordinates = [(-33.86,151.2)]\\n\\ndriver_path = \"/Users/Michael/chromedriver\"\\ndriver = webdriver.Chrome(driver_path)\\n\\nurl = \"https://www.latlong.net/Show-Latitude-Longitude.html\"\\ndriver.get(url)\\n\\n#time.sleep(3)\\n\\nsource = driver.page_source\\nsoup = BeautifulSoup(source,\"html\")\\n\\ninput_lat = driver.find_element_by_id(\"latitude\")\\ninput_long = driver.find_element_by_id(\"longitude\")\\n\\ninput_lat.send_keys(str(lat))\\ninput_long.send_keys(str(long))\\n\\nconvert = driver.find_element_by_class_name(\"button\")\\nconvert.click()\\n\\nresult_source = driver.page_source\\nresult_soup = BeautifulSoup(result_source,\"html\")\\n\\nlocation = driver.find_element_by_class_name(\"bgw\").text\\n\\n#time.sleep(3)\\ndriver.close()\\n'"
      ]
     },
     "execution_count": 256,
     "metadata": {},
     "output_type": "execute_result"
    }
   ],
   "source": [
    "'''\n",
    "# coordinates = (lat,long)\n",
    "coordinates = [(-33.86,151.2)]\n",
    "\n",
    "driver_path = \"/Users/Michael/chromedriver\"\n",
    "driver = webdriver.Chrome(driver_path)\n",
    "\n",
    "url = \"https://www.latlong.net/Show-Latitude-Longitude.html\"\n",
    "driver.get(url)\n",
    "\n",
    "#time.sleep(3)\n",
    "\n",
    "source = driver.page_source\n",
    "soup = BeautifulSoup(source,\"html\")\n",
    "\n",
    "input_lat = driver.find_element_by_id(\"latitude\")\n",
    "input_long = driver.find_element_by_id(\"longitude\")\n",
    "\n",
    "input_lat.send_keys(str(lat))\n",
    "input_long.send_keys(str(long))\n",
    "\n",
    "convert = driver.find_element_by_class_name(\"button\")\n",
    "convert.click()\n",
    "\n",
    "result_source = driver.page_source\n",
    "result_soup = BeautifulSoup(result_source,\"html\")\n",
    "\n",
    "location = driver.find_element_by_class_name(\"bgw\").text\n",
    "\n",
    "#time.sleep(3)\n",
    "driver.close()\n",
    "'''\n"
   ]
  },
  {
   "cell_type": "code",
   "execution_count": null,
   "metadata": {},
   "outputs": [],
   "source": []
  },
  {
   "cell_type": "code",
   "execution_count": 267,
   "metadata": {},
   "outputs": [
    {
     "name": "stdout",
     "output_type": "stream",
     "text": [
      "0\n",
      "50\n",
      "100\n",
      "150\n",
      "200\n",
      "250\n",
      "300\n",
      "350\n",
      "400\n",
      "450\n",
      "500\n",
      "550\n",
      "600\n",
      "650\n",
      "700\n",
      "750\n",
      "800\n",
      "850\n",
      "900\n",
      "950\n",
      "1000\n",
      "1050\n",
      "1100\n",
      "1150\n",
      "1200\n",
      "1250\n",
      "1300\n",
      "1350\n",
      "1400\n",
      "1450\n"
     ]
    }
   ],
   "source": [
    "t0 = time.time()\n",
    "\n",
    "# instantiate driver\n",
    "driver_path = \"/Users/Michael/chromedriver\"\n",
    "driver = webdriver.Chrome(driver_path)\n",
    "\n",
    "# open chrome, go to URL\n",
    "url = \"https://www.latlong.net/Show-Latitude-Longitude.html\"\n",
    "driver.get(url)\n",
    "\n",
    "# iterate through lat/long values, submit request, save location string result\n",
    "\n",
    "N = 2000\n",
    "if location_list == None:\n",
    "    location_list = []\n",
    "else: pass\n",
    "\n",
    "#location_list = []\n",
    "for num in range(N):\n",
    "    \n",
    "    # generate random lats + longs (must be inside Australia bounding box)\n",
    "    lat = random.randint(-43,-10) + random.randint(0,100)/100\n",
    "    long = random.randint(113,153) + random.randint(0,100)/100\n",
    "\n",
    "    # find lat + long input elements\n",
    "    input_lat = driver.find_element_by_id(\"latitude\")\n",
    "    input_long = driver.find_element_by_id(\"longitude\")\n",
    "\n",
    "    # clear input elements\n",
    "    input_lat.clear()\n",
    "    input_long.clear()\n",
    "    \n",
    "    # input a lat + long pair (must be in string format)\n",
    "    input_lat.send_keys(str(lat))\n",
    "    input_long.send_keys(str(long))\n",
    "\n",
    "    # convert input lat + long to address\n",
    "    convert = driver.find_element_by_class_name(\"button\")\n",
    "    convert.click()\n",
    "\n",
    "    # record request output\n",
    "    location = driver.find_element_by_class_name(\"bgw\").text\n",
    "    \n",
    "    # if no address is found, record 'None'\n",
    "    if len(location)==0:\n",
    "        location = \"None\"\n",
    "    \n",
    "    # append lat + long + location to list\n",
    "    location_list.append((lat,long,location))\n",
    "    \n",
    "    if (num+1) % 100 == 0:\n",
    "        print(num+1)\n",
    "\n",
    "# close browser\n",
    "driver.close()\n",
    "\n",
    "t1 = time.time()"
   ]
  },
  {
   "cell_type": "code",
   "execution_count": 271,
   "metadata": {},
   "outputs": [
    {
     "data": {
      "text/plain": [
       "1861"
      ]
     },
     "execution_count": 271,
     "metadata": {},
     "output_type": "execute_result"
    }
   ],
   "source": [
    "len(location_list)"
   ]
  },
  {
   "cell_type": "code",
   "execution_count": null,
   "metadata": {},
   "outputs": [],
   "source": []
  },
  {
   "cell_type": "code",
   "execution_count": 269,
   "metadata": {},
   "outputs": [
    {
     "data": {
      "text/plain": [
       "2600.604863882065"
      ]
     },
     "execution_count": 269,
     "metadata": {},
     "output_type": "execute_result"
    }
   ],
   "source": [
    "mins = (t1-t0)/60\n",
    "\n",
    "print(\"No of minutes:\",mins)\n",
    "\n",
    "# approv 38.5 seconds for 10 sets of coordinates\n",
    "# approx 64 minutes per 1000 sets of coordinates"
   ]
  },
  {
   "cell_type": "code",
   "execution_count": null,
   "metadata": {},
   "outputs": [],
   "source": []
  },
  {
   "cell_type": "markdown",
   "metadata": {},
   "source": [
    "#### Extracting States from Location Strings"
   ]
  },
  {
   "cell_type": "code",
   "execution_count": 272,
   "metadata": {},
   "outputs": [],
   "source": [
    "states = ['Western Australia','South Australia','New South Wales',\n",
    "          'Tasmania','Northern Territory','Queensland']"
   ]
  },
  {
   "cell_type": "code",
   "execution_count": null,
   "metadata": {},
   "outputs": [],
   "source": []
  },
  {
   "cell_type": "code",
   "execution_count": 273,
   "metadata": {},
   "outputs": [
    {
     "name": "stdout",
     "output_type": "stream",
     "text": [
      "1861\n",
      "1861\n"
     ]
    }
   ],
   "source": [
    "\n",
    "result = []\n",
    "for lat,long,location in location_list:\n",
    "    location = location.split('\\n')[0]\n",
    "    for state in states:\n",
    "        if state.lower() in location.lower():\n",
    "            res = (lat,long,state)\n",
    "            break\n",
    "        else:\n",
    "            res = (lat,long,'None')\n",
    "\n",
    "        \n",
    "    result.append(res)\n",
    "        \n",
    "print(len(location_list))\n",
    "print(len(result))\n"
   ]
  },
  {
   "cell_type": "code",
   "execution_count": 274,
   "metadata": {},
   "outputs": [],
   "source": [
    "df = pd.DataFrame(result,columns=['Lat','Long','State'])"
   ]
  },
  {
   "cell_type": "code",
   "execution_count": 275,
   "metadata": {},
   "outputs": [
    {
     "data": {
      "text/html": [
       "<div>\n",
       "<style scoped>\n",
       "    .dataframe tbody tr th:only-of-type {\n",
       "        vertical-align: middle;\n",
       "    }\n",
       "\n",
       "    .dataframe tbody tr th {\n",
       "        vertical-align: top;\n",
       "    }\n",
       "\n",
       "    .dataframe thead th {\n",
       "        text-align: right;\n",
       "    }\n",
       "</style>\n",
       "<table border=\"1\" class=\"dataframe\">\n",
       "  <thead>\n",
       "    <tr style=\"text-align: right;\">\n",
       "      <th></th>\n",
       "      <th>Lat</th>\n",
       "      <th>Long</th>\n",
       "      <th>State</th>\n",
       "    </tr>\n",
       "  </thead>\n",
       "  <tbody>\n",
       "    <tr>\n",
       "      <th>0</th>\n",
       "      <td>-42.65</td>\n",
       "      <td>138.44</td>\n",
       "      <td>None</td>\n",
       "    </tr>\n",
       "    <tr>\n",
       "      <th>1</th>\n",
       "      <td>-37.24</td>\n",
       "      <td>125.40</td>\n",
       "      <td>None</td>\n",
       "    </tr>\n",
       "    <tr>\n",
       "      <th>2</th>\n",
       "      <td>-32.67</td>\n",
       "      <td>127.16</td>\n",
       "      <td>None</td>\n",
       "    </tr>\n",
       "    <tr>\n",
       "      <th>3</th>\n",
       "      <td>-41.03</td>\n",
       "      <td>113.45</td>\n",
       "      <td>None</td>\n",
       "    </tr>\n",
       "    <tr>\n",
       "      <th>4</th>\n",
       "      <td>-10.11</td>\n",
       "      <td>125.35</td>\n",
       "      <td>None</td>\n",
       "    </tr>\n",
       "  </tbody>\n",
       "</table>\n",
       "</div>"
      ],
      "text/plain": [
       "     Lat    Long State\n",
       "0 -42.65  138.44  None\n",
       "1 -37.24  125.40  None\n",
       "2 -32.67  127.16  None\n",
       "3 -41.03  113.45  None\n",
       "4 -10.11  125.35  None"
      ]
     },
     "execution_count": 275,
     "metadata": {},
     "output_type": "execute_result"
    }
   ],
   "source": [
    "df.head()"
   ]
  },
  {
   "cell_type": "code",
   "execution_count": 276,
   "metadata": {},
   "outputs": [
    {
     "data": {
      "text/plain": [
       "None                  948\n",
       "Western Australia     307\n",
       "Queensland            196\n",
       "Northern Territory    163\n",
       "South Australia       137\n",
       "New South Wales       102\n",
       "Tasmania                8\n",
       "Name: State, dtype: int64"
      ]
     },
     "execution_count": 276,
     "metadata": {},
     "output_type": "execute_result"
    }
   ],
   "source": [
    "df['State'].value_counts()"
   ]
  },
  {
   "cell_type": "code",
   "execution_count": 277,
   "metadata": {},
   "outputs": [
    {
     "data": {
      "text/plain": [
       "'\\nk = 12\\nlocation_list[:k]\\nresult[:k]\\n'"
      ]
     },
     "execution_count": 277,
     "metadata": {},
     "output_type": "execute_result"
    }
   ],
   "source": [
    "'''\n",
    "k = 12\n",
    "location_list[:k]\n",
    "result[:k]\n",
    "'''"
   ]
  },
  {
   "cell_type": "code",
   "execution_count": null,
   "metadata": {},
   "outputs": [],
   "source": []
  },
  {
   "cell_type": "code",
   "execution_count": 278,
   "metadata": {},
   "outputs": [],
   "source": [
    "df.to_csv(\"coordinates_and_states_pull2.csv\",index=False)"
   ]
  },
  {
   "cell_type": "code",
   "execution_count": null,
   "metadata": {},
   "outputs": [],
   "source": []
  },
  {
   "cell_type": "code",
   "execution_count": null,
   "metadata": {},
   "outputs": [],
   "source": []
  }
 ],
 "metadata": {
  "kernelspec": {
   "display_name": "web-scraper",
   "language": "python",
   "name": "web-scraper"
  },
  "language_info": {
   "codemirror_mode": {
    "name": "ipython",
    "version": 3
   },
   "file_extension": ".py",
   "mimetype": "text/x-python",
   "name": "python",
   "nbconvert_exporter": "python",
   "pygments_lexer": "ipython3",
   "version": "3.6.3"
  }
 },
 "nbformat": 4,
 "nbformat_minor": 2
}
