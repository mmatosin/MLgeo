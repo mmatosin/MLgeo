{
 "cells": [
  {
   "cell_type": "code",
   "execution_count": 116,
   "metadata": {},
   "outputs": [],
   "source": [
    "import pandas as pd\n",
    "import numpy as np\n",
    "import os, time, random"
   ]
  },
  {
   "cell_type": "code",
   "execution_count": null,
   "metadata": {},
   "outputs": [],
   "source": []
  },
  {
   "cell_type": "markdown",
   "metadata": {},
   "source": [
    "#### Identify Directories"
   ]
  },
  {
   "cell_type": "code",
   "execution_count": 117,
   "metadata": {},
   "outputs": [],
   "source": [
    "currDir = os.getcwd()\n",
    "rootDir = os.path.abspath(os.path.join(currDir,'..'))\n",
    "\n",
    "dataDir = os.path.abspath(os.path.join(rootDir,'data'))\n",
    "rawDataDir = os.path.abspath(os.path.join(dataDir,'raw'))\n",
    "interimDataDir = os.path.abspath(os.path.join(dataDir,'interim'))\n",
    "finalDataDir = os.path.abspath(os.path.join(dataDir,'final'))"
   ]
  },
  {
   "cell_type": "code",
   "execution_count": null,
   "metadata": {},
   "outputs": [],
   "source": []
  },
  {
   "cell_type": "markdown",
   "metadata": {},
   "source": [
    "#### Reverse Geocoding"
   ]
  },
  {
   "cell_type": "code",
   "execution_count": 118,
   "metadata": {},
   "outputs": [
    {
     "data": {
      "text/plain": [
       "\"\\nAustralia bounding box: ('Australia', (113.338953078, -43.6345972634, 153.569469029, -10.6681857235))\\nfound here: https://gist.github.com/graydon/11198540\\n\\n'US': ('United States', (-171.791110603, 18.91619, -66.96466, 71.3577635769))\\n\""
      ]
     },
     "execution_count": 118,
     "metadata": {},
     "output_type": "execute_result"
    }
   ],
   "source": [
    "import reverse_geocoder as geo\n",
    "\n",
    "'''\n",
    "Australia bounding box: ('Australia', (113.338953078, -43.6345972634, 153.569469029, -10.6681857235))\n",
    "found here: https://gist.github.com/graydon/11198540\n",
    "\n",
    "'US': ('United States', (-171.791110603, 18.91619, -66.96466, 71.3577635769))\n",
    "'''  "
   ]
  },
  {
   "cell_type": "code",
   "execution_count": null,
   "metadata": {},
   "outputs": [],
   "source": []
  },
  {
   "cell_type": "code",
   "execution_count": 119,
   "metadata": {},
   "outputs": [],
   "source": [
    "'''\n",
    "states = ['Western Australia','South Australia','New South Wales',\n",
    "          'Tasmania','Northern Territory','Queensland','Victoria']\n",
    "'''\n",
    "states = [\"Alabama\",\"Alaska\",\"Arizona\",\"Arkansas\",\"California\",\"Colorado\",\n",
    "  \"Connecticut\",\"Delaware\",\"Florida\",\"Georgia\",\"Hawaii\",\"Idaho\",\"Illinois\",\n",
    "  \"Indiana\",\"Iowa\",\"Kansas\",\"Kentucky\",\"Louisiana\",\"Maine\",\"Maryland\",\n",
    "  \"Massachusetts\",\"Michigan\",\"Minnesota\",\"Mississippi\",\"Missouri\",\"Montana\",\n",
    "  \"Nebraska\",\"Nevada\",\"New Hampshire\",\"New Jersey\",\"New Mexico\",\"New York\",\n",
    "  \"North Carolina\",\"North Dakota\",\"Ohio\",\"Oklahoma\",\"Oregon\",\"Pennsylvania\",\n",
    "  \"Rhode Island\",\"South Carolina\",\"South Dakota\",\"Tennessee\",\"Texas\",\"Utah\",\n",
    "  \"Vermont\",\"Virginia\",\"Washington\",\"West Virginia\",\"Wisconsin\",\"Wyoming\"]\n",
    "    \n"
   ]
  },
  {
   "cell_type": "code",
   "execution_count": 125,
   "metadata": {},
   "outputs": [
    {
     "name": "stdout",
     "output_type": "stream",
     "text": [
      "100\n",
      "200\n",
      "300\n",
      "400\n",
      "500\n",
      "600\n",
      "700\n",
      "800\n",
      "900\n",
      "1000\n",
      "1100\n",
      "1200\n",
      "1300\n",
      "1400\n",
      "1500\n",
      "1600\n",
      "1700\n",
      "1800\n",
      "1900\n",
      "2000\n"
     ]
    }
   ],
   "source": [
    "t0 = time.time()\n",
    "\n",
    "N = 2000\n",
    "result_list = []\n",
    "\n",
    "for num in range(N):\n",
    "    \n",
    "    lat = random.randint(24,50) + random.randint(0,100)/100\n",
    "    long = random.randint(-124,-67) + random.randint(0,100)/100\n",
    "    \n",
    "    '''\n",
    "    # generate random lats + longs (must be inside Australia bounding box)\n",
    "    lat = random.randint(-43,-10) + random.randint(0,100)/100\n",
    "    long = random.randint(113,153) + random.randint(0,100)/100\n",
    "    '''\n",
    "    coords = lat, long\n",
    "    result = geo.search(coords)[0]\n",
    "    \n",
    "    row = (lat,long,result['lat'],result['lon'],result['name'],result['admin1'],result['admin2'],result['cc'])\n",
    "    result_list.append(row)\n",
    "    #print(result)\n",
    "\n",
    "    if (num+1) % 100 == 0:\n",
    "        print(num+1)\n",
    "    \n",
    "t1 = time.time()\n",
    " \n",
    "cols = ['gps_lat','gps_long','lat','long','city','state','area','country']\n",
    "df = pd.DataFrame(result_list,columns=cols)\n",
    "\n",
    "df['state_flag'] = [row if row in states else 'None' for row in df['state'].values ]\n",
    "\n",
    "\n",
    "df['lat'] = df['lat'].astype(float)\n",
    "df['long'] = df['long'].astype(float)\n"
   ]
  },
  {
   "cell_type": "code",
   "execution_count": 126,
   "metadata": {},
   "outputs": [
    {
     "data": {
      "text/plain": [
       "49.2849662065506"
      ]
     },
     "execution_count": 126,
     "metadata": {},
     "output_type": "execute_result"
    }
   ],
   "source": [
    "# no. of minutes\n",
    "((t1 - t0)/60)"
   ]
  },
  {
   "cell_type": "code",
   "execution_count": null,
   "metadata": {},
   "outputs": [],
   "source": []
  },
  {
   "cell_type": "code",
   "execution_count": 127,
   "metadata": {},
   "outputs": [
    {
     "name": "stdout",
     "output_type": "stream",
     "text": [
      "(5200, 9)\n"
     ]
    }
   ],
   "source": [
    "\n",
    "CSVs = [file for file in os.listdir(rawDataDir) if ('.csv' and 'geocode' and 'US') in file]\n",
    "CSVs.sort()\n",
    "\n",
    "prev_filename = f\"{rawDataDir}/reverse_US_geocode_results_pull{len(CSVs)}.csv\"\n",
    "try:\n",
    "    prev_df = pd.read_csv(prev_filename)\n",
    "    df = pd.concat([prev_df,df]).reset_index(drop=True)\n",
    "except: pass\n",
    "\n",
    "df.drop_duplicates(inplace=True)\n",
    "\n",
    "filename = f\"{rawDataDir}/reverse_US_geocode_results_pull{len(CSVs)+1}.csv\"\n",
    "df.to_csv(filename,index=False)\n",
    "\n",
    "print(df.shape)\n"
   ]
  },
  {
   "cell_type": "code",
   "execution_count": null,
   "metadata": {},
   "outputs": [],
   "source": []
  },
  {
   "cell_type": "code",
   "execution_count": 128,
   "metadata": {},
   "outputs": [
    {
     "data": {
      "text/html": [
       "<div>\n",
       "<style scoped>\n",
       "    .dataframe tbody tr th:only-of-type {\n",
       "        vertical-align: middle;\n",
       "    }\n",
       "\n",
       "    .dataframe tbody tr th {\n",
       "        vertical-align: top;\n",
       "    }\n",
       "\n",
       "    .dataframe thead th {\n",
       "        text-align: right;\n",
       "    }\n",
       "</style>\n",
       "<table border=\"1\" class=\"dataframe\">\n",
       "  <thead>\n",
       "    <tr style=\"text-align: right;\">\n",
       "      <th></th>\n",
       "      <th>gps_lat</th>\n",
       "      <th>gps_long</th>\n",
       "      <th>lat</th>\n",
       "      <th>long</th>\n",
       "      <th>city</th>\n",
       "      <th>state</th>\n",
       "      <th>area</th>\n",
       "      <th>country</th>\n",
       "      <th>state_flag</th>\n",
       "    </tr>\n",
       "  </thead>\n",
       "  <tbody>\n",
       "    <tr>\n",
       "      <th>0</th>\n",
       "      <td>31.78</td>\n",
       "      <td>-94.33</td>\n",
       "      <td>31.90378</td>\n",
       "      <td>-94.39520</td>\n",
       "      <td>Timpson</td>\n",
       "      <td>Texas</td>\n",
       "      <td>Shelby County</td>\n",
       "      <td>US</td>\n",
       "      <td>Texas</td>\n",
       "    </tr>\n",
       "    <tr>\n",
       "      <th>1</th>\n",
       "      <td>38.77</td>\n",
       "      <td>-88.01</td>\n",
       "      <td>38.73088</td>\n",
       "      <td>-88.08532</td>\n",
       "      <td>Olney</td>\n",
       "      <td>Illinois</td>\n",
       "      <td>Richland County</td>\n",
       "      <td>US</td>\n",
       "      <td>Illinois</td>\n",
       "    </tr>\n",
       "    <tr>\n",
       "      <th>2</th>\n",
       "      <td>28.85</td>\n",
       "      <td>-81.03</td>\n",
       "      <td>28.73972</td>\n",
       "      <td>-81.11506</td>\n",
       "      <td>Geneva</td>\n",
       "      <td>Florida</td>\n",
       "      <td>Seminole County</td>\n",
       "      <td>US</td>\n",
       "      <td>Florida</td>\n",
       "    </tr>\n",
       "    <tr>\n",
       "      <th>3</th>\n",
       "      <td>25.86</td>\n",
       "      <td>-96.76</td>\n",
       "      <td>26.10369</td>\n",
       "      <td>-97.16469</td>\n",
       "      <td>South Padre Island</td>\n",
       "      <td>Texas</td>\n",
       "      <td>Cameron County</td>\n",
       "      <td>US</td>\n",
       "      <td>Texas</td>\n",
       "    </tr>\n",
       "    <tr>\n",
       "      <th>4</th>\n",
       "      <td>37.23</td>\n",
       "      <td>-97.89</td>\n",
       "      <td>37.28669</td>\n",
       "      <td>-98.02589</td>\n",
       "      <td>Harper</td>\n",
       "      <td>Kansas</td>\n",
       "      <td>Harper County</td>\n",
       "      <td>US</td>\n",
       "      <td>Kansas</td>\n",
       "    </tr>\n",
       "  </tbody>\n",
       "</table>\n",
       "</div>"
      ],
      "text/plain": [
       "   gps_lat  gps_long       lat      long                city     state  \\\n",
       "0    31.78    -94.33  31.90378 -94.39520             Timpson     Texas   \n",
       "1    38.77    -88.01  38.73088 -88.08532               Olney  Illinois   \n",
       "2    28.85    -81.03  28.73972 -81.11506              Geneva   Florida   \n",
       "3    25.86    -96.76  26.10369 -97.16469  South Padre Island     Texas   \n",
       "4    37.23    -97.89  37.28669 -98.02589              Harper    Kansas   \n",
       "\n",
       "              area country state_flag  \n",
       "0    Shelby County      US      Texas  \n",
       "1  Richland County      US   Illinois  \n",
       "2  Seminole County      US    Florida  \n",
       "3   Cameron County      US      Texas  \n",
       "4    Harper County      US     Kansas  "
      ]
     },
     "execution_count": 128,
     "metadata": {},
     "output_type": "execute_result"
    }
   ],
   "source": [
    "df.head()"
   ]
  },
  {
   "cell_type": "code",
   "execution_count": 129,
   "metadata": {},
   "outputs": [
    {
     "data": {
      "text/plain": [
       "None              1611\n",
       "Texas              285\n",
       "California         263\n",
       "Florida            177\n",
       "North Carolina     160\n",
       "Montana            145\n",
       "Nevada             122\n",
       "New Mexico         115\n",
       "Colorado           115\n",
       "Idaho              106\n",
       "Minnesota          103\n",
       "Arizona            103\n",
       "Louisiana           97\n",
       "Wyoming             96\n",
       "Michigan            96\n",
       "Name: state_flag, dtype: int64"
      ]
     },
     "execution_count": 129,
     "metadata": {},
     "output_type": "execute_result"
    }
   ],
   "source": [
    "df['state_flag'].value_counts()[:15]"
   ]
  },
  {
   "cell_type": "code",
   "execution_count": null,
   "metadata": {},
   "outputs": [],
   "source": []
  },
  {
   "cell_type": "code",
   "execution_count": null,
   "metadata": {},
   "outputs": [],
   "source": []
  },
  {
   "cell_type": "markdown",
   "metadata": {},
   "source": [
    "#### Plotting Data"
   ]
  },
  {
   "cell_type": "code",
   "execution_count": null,
   "metadata": {},
   "outputs": [],
   "source": [
    "import matplotlib.pyplot as plt"
   ]
  },
  {
   "cell_type": "code",
   "execution_count": null,
   "metadata": {},
   "outputs": [],
   "source": [
    "\n",
    "bounding_box = [(df['gps_long'].min(),df['gps_long'].max()),      \n",
    "                (df['gps_lat'].min(), df['gps_lat'].max())]\n"
   ]
  },
  {
   "cell_type": "code",
   "execution_count": null,
   "metadata": {},
   "outputs": [],
   "source": [
    "'''\n",
    "bounding_box = [(df['long'].min(),df['long'].max()),      \n",
    "                (df['lat'].min(), df['lat'].max())]\n",
    "'''"
   ]
  },
  {
   "cell_type": "code",
   "execution_count": null,
   "metadata": {},
   "outputs": [],
   "source": [
    "fig, ax = plt.subplots(figsize = (12,10))\n",
    "\n",
    "color_dict = {'Western Australia':'orange',\n",
    "              'South Australia':'yellow',\n",
    "              'New South Wales':'green',\n",
    "              'Tasmania':'cyan',\n",
    "              'Northern Territory':'red',\n",
    "              'Queensland':'maroon',\n",
    "              'Victoria':'grey',\n",
    "              'None':'blue'\n",
    "             }\n",
    "\n",
    "plt.scatter(df['gps_long'],df['gps_lat']\n",
    "            ,alpha=0.5\n",
    "            ,c=df['state_flag'].apply(lambda x: color_dict[x]));"
   ]
  },
  {
   "cell_type": "code",
   "execution_count": null,
   "metadata": {},
   "outputs": [],
   "source": []
  },
  {
   "cell_type": "code",
   "execution_count": null,
   "metadata": {},
   "outputs": [],
   "source": [
    "\n",
    "bounding_box = [(df['long'].min(),df['long'].max()),      \n",
    "                (df['lat'].min(), df['lat'].max())]\n"
   ]
  },
  {
   "cell_type": "code",
   "execution_count": null,
   "metadata": {},
   "outputs": [],
   "source": [
    "fig, ax = plt.subplots(figsize = (12,10))\n",
    "\n",
    "color_dict = {'Western Australia':'orange',\n",
    "              'South Australia':'yellow',\n",
    "              'New South Wales':'green',\n",
    "              'Tasmania':'cyan',\n",
    "              'Northern Territory':'red',\n",
    "              'Queensland':'maroon',\n",
    "              'Victoria':'grey',\n",
    "              'None':'blue'\n",
    "             }\n",
    "\n",
    "plt.scatter(df['long'],df['lat']\n",
    "            ,alpha=0.5\n",
    "            ,c=df['state_flag'].apply(lambda x: color_dict[x]));"
   ]
  },
  {
   "cell_type": "code",
   "execution_count": null,
   "metadata": {},
   "outputs": [],
   "source": []
  },
  {
   "cell_type": "code",
   "execution_count": null,
   "metadata": {},
   "outputs": [],
   "source": [
    "df.head()"
   ]
  },
  {
   "cell_type": "code",
   "execution_count": null,
   "metadata": {},
   "outputs": [],
   "source": [
    "# df[df['country']!='AU']"
   ]
  },
  {
   "cell_type": "code",
   "execution_count": null,
   "metadata": {},
   "outputs": [],
   "source": []
  },
  {
   "cell_type": "code",
   "execution_count": null,
   "metadata": {},
   "outputs": [],
   "source": []
  }
 ],
 "metadata": {
  "kernelspec": {
   "display_name": "Python 3",
   "language": "python",
   "name": "python3"
  },
  "language_info": {
   "codemirror_mode": {
    "name": "ipython",
    "version": 3
   },
   "file_extension": ".py",
   "mimetype": "text/x-python",
   "name": "python",
   "nbconvert_exporter": "python",
   "pygments_lexer": "ipython3",
   "version": "3.7.3"
  }
 },
 "nbformat": 4,
 "nbformat_minor": 4
}
