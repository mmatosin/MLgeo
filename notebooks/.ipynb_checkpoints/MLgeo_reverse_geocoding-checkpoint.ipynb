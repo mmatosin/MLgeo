{
 "cells": [
  {
   "cell_type": "code",
   "execution_count": 1,
   "metadata": {},
   "outputs": [],
   "source": [
    "import pandas as pd\n",
    "import numpy as np\n",
    "import os, time, random\n",
    "\n",
    "from get_coords import get_coords"
   ]
  },
  {
   "cell_type": "code",
   "execution_count": null,
   "metadata": {},
   "outputs": [],
   "source": []
  },
  {
   "cell_type": "markdown",
   "metadata": {},
   "source": [
    "#### Identify Directories"
   ]
  },
  {
   "cell_type": "code",
   "execution_count": 2,
   "metadata": {},
   "outputs": [],
   "source": [
    "currDir = os.getcwd()\n",
    "rootDir = os.path.abspath(os.path.join(currDir,'..'))\n",
    "\n",
    "dataDir = os.path.abspath(os.path.join(rootDir,'data'))\n",
    "rawDataDir = os.path.abspath(os.path.join(dataDir,'raw'))\n",
    "interimDataDir = os.path.abspath(os.path.join(dataDir,'interim'))\n",
    "finalDataDir = os.path.abspath(os.path.join(dataDir,'final'))"
   ]
  },
  {
   "cell_type": "code",
   "execution_count": null,
   "metadata": {},
   "outputs": [],
   "source": []
  },
  {
   "cell_type": "markdown",
   "metadata": {},
   "source": [
    "#### Using get_coords class"
   ]
  },
  {
   "cell_type": "code",
   "execution_count": 3,
   "metadata": {},
   "outputs": [],
   "source": [
    "states = [\"Alabama\",\"Alaska\",\"Arizona\",\"Arkansas\",\"California\",\"Colorado\",\n",
    "  \"Connecticut\",\"Delaware\",\"Florida\",\"Georgia\",\"Hawaii\",\"Idaho\",\"Illinois\",\n",
    "  \"Indiana\",\"Iowa\",\"Kansas\",\"Kentucky\",\"Louisiana\",\"Maine\",\"Maryland\",\n",
    "  \"Massachusetts\",\"Michigan\",\"Minnesota\",\"Mississippi\",\"Missouri\",\"Montana\",\n",
    "  \"Nebraska\",\"Nevada\",\"New Hampshire\",\"New Jersey\",\"New Mexico\",\"New York\",\n",
    "  \"North Carolina\",\"North Dakota\",\"Ohio\",\"Oklahoma\",\"Oregon\",\"Pennsylvania\",\n",
    "  \"Rhode Island\",\"South Carolina\",\"South Dakota\",\"Tennessee\",\"Texas\",\"Utah\",\n",
    "  \"Vermont\",\"Virginia\",\"Washington\",\"West Virginia\",\"Wisconsin\",\"Wyoming\"]\n",
    "    "
   ]
  },
  {
   "cell_type": "code",
   "execution_count": 7,
   "metadata": {},
   "outputs": [
    {
     "name": "stdout",
     "output_type": "stream",
     "text": [
      "/Users/Michael/Documents/Projects/MLgeo/data/raw//reverse_US_geocode_results_pull7.csv\n",
      "(15033, 9)\n"
     ]
    }
   ],
   "source": [
    "geo = get_coords(rawDataDir)\n",
    "df  = geo.load_data()\n",
    "\n",
    "bbox = (-124,24,-67,50)\n",
    "\n",
    "print(geo.filename)\n",
    "print(df.shape)"
   ]
  },
  {
   "cell_type": "code",
   "execution_count": 8,
   "metadata": {},
   "outputs": [
    {
     "data": {
      "text/html": [
       "<div>\n",
       "<style scoped>\n",
       "    .dataframe tbody tr th:only-of-type {\n",
       "        vertical-align: middle;\n",
       "    }\n",
       "\n",
       "    .dataframe tbody tr th {\n",
       "        vertical-align: top;\n",
       "    }\n",
       "\n",
       "    .dataframe thead th {\n",
       "        text-align: right;\n",
       "    }\n",
       "</style>\n",
       "<table border=\"1\" class=\"dataframe\">\n",
       "  <thead>\n",
       "    <tr style=\"text-align: right;\">\n",
       "      <th></th>\n",
       "      <th>area</th>\n",
       "      <th>city</th>\n",
       "      <th>country</th>\n",
       "      <th>gps_lat</th>\n",
       "      <th>gps_long</th>\n",
       "      <th>lat</th>\n",
       "      <th>long</th>\n",
       "      <th>state</th>\n",
       "      <th>state_flag</th>\n",
       "    </tr>\n",
       "  </thead>\n",
       "  <tbody>\n",
       "    <tr>\n",
       "      <th>0</th>\n",
       "      <td>Shelby County</td>\n",
       "      <td>Timpson</td>\n",
       "      <td>US</td>\n",
       "      <td>31.78</td>\n",
       "      <td>-94.33</td>\n",
       "      <td>31.90378</td>\n",
       "      <td>-94.39520</td>\n",
       "      <td>Texas</td>\n",
       "      <td>Texas</td>\n",
       "    </tr>\n",
       "    <tr>\n",
       "      <th>1</th>\n",
       "      <td>Richland County</td>\n",
       "      <td>Olney</td>\n",
       "      <td>US</td>\n",
       "      <td>38.77</td>\n",
       "      <td>-88.01</td>\n",
       "      <td>38.73088</td>\n",
       "      <td>-88.08532</td>\n",
       "      <td>Illinois</td>\n",
       "      <td>Illinois</td>\n",
       "    </tr>\n",
       "  </tbody>\n",
       "</table>\n",
       "</div>"
      ],
      "text/plain": [
       "              area     city country  gps_lat  gps_long       lat      long  \\\n",
       "0    Shelby County  Timpson      US    31.78    -94.33  31.90378 -94.39520   \n",
       "1  Richland County    Olney      US    38.77    -88.01  38.73088 -88.08532   \n",
       "\n",
       "      state state_flag  \n",
       "0     Texas      Texas  \n",
       "1  Illinois   Illinois  "
      ]
     },
     "execution_count": 8,
     "metadata": {},
     "output_type": "execute_result"
    }
   ],
   "source": [
    "df.head(2)"
   ]
  },
  {
   "cell_type": "code",
   "execution_count": 6,
   "metadata": {},
   "outputs": [
    {
     "name": "stdout",
     "output_type": "stream",
     "text": [
      "Loading formatted geocoded file...\n",
      "100\r",
      "200\r",
      "300\r",
      "400\r",
      "500\r",
      "600\r",
      "700\r",
      "800\r",
      "900\r",
      "1000\r",
      "1100\r",
      "1200\r",
      "1300\r",
      "1400\r",
      "1500\r",
      "1600\r",
      "1700\r",
      "1800\r",
      "1900\r",
      "2000\r",
      "2100\r",
      "2200\r",
      "2300\r",
      "2400\r",
      "2500\r",
      "2600\r",
      "2700\r",
      "2800\r",
      "2900\r",
      "3000\r",
      "3100\r",
      "3200\r",
      "3300\r",
      "3400\r",
      "3500\r",
      "3600\r",
      "3700\r",
      "3800\r",
      "3900\r",
      "4000\r",
      "4100\r",
      "4200\r",
      "4300\r",
      "4400\r",
      "4500\r",
      "4600\r",
      "4700\r",
      "4800\r",
      "4900\r",
      "5000\r",
      "5100\r",
      "5200\r",
      "5300\r",
      "5400\r",
      "5500\r",
      "5600\r",
      "5700\r",
      "5800\r",
      "5900\r",
      "6000\r",
      "6100\r",
      "6200\r",
      "6300\r",
      "6400\r",
      "6500\r",
      "6600\r",
      "6700\r",
      "6800\r",
      "6900\r",
      "7000\r",
      "7100\r",
      "7200\r",
      "7300\r",
      "7400\r",
      "7500\r",
      "7600\r",
      "7700\r",
      "7800\r",
      "7900\r",
      "8000\r",
      "8100\r",
      "8200\r",
      "8300\r",
      "8400\r",
      "8500\r",
      "8600\r",
      "8700\r",
      "8800\r",
      "8900\r",
      "9000\r",
      "9100\r",
      "9200\r",
      "9300\r",
      "9400\r",
      "9500\r",
      "9600\r",
      "9700\r",
      "9800\r",
      "9900\r",
      "10000\r"
     ]
    }
   ],
   "source": [
    "#geo.add_data(bbox,states,num_iter=10000,save=True,load=False)"
   ]
  },
  {
   "cell_type": "code",
   "execution_count": null,
   "metadata": {},
   "outputs": [],
   "source": []
  },
  {
   "cell_type": "code",
   "execution_count": null,
   "metadata": {},
   "outputs": [],
   "source": [
    "|"
   ]
  },
  {
   "cell_type": "code",
   "execution_count": null,
   "metadata": {},
   "outputs": [],
   "source": []
  },
  {
   "cell_type": "markdown",
   "metadata": {},
   "source": [
    "#### Reverse Geocoding"
   ]
  },
  {
   "cell_type": "code",
   "execution_count": null,
   "metadata": {},
   "outputs": [],
   "source": [
    "import reverse_geocoder as geo\n",
    "\n",
    "'''\n",
    "Australia bounding box: ('Australia', (113.338953078, -43.6345972634, 153.569469029, -10.6681857235))\n",
    "found here: https://gist.github.com/graydon/11198540\n",
    "\n",
    "'US': ('United States', (-171.791110603, 18.91619, -66.96466, 71.3577635769))\n",
    "'''  "
   ]
  },
  {
   "cell_type": "code",
   "execution_count": null,
   "metadata": {},
   "outputs": [],
   "source": []
  },
  {
   "cell_type": "code",
   "execution_count": null,
   "metadata": {},
   "outputs": [],
   "source": [
    "'''\n",
    "states = ['Western Australia','South Australia','New South Wales',\n",
    "          'Tasmania','Northern Territory','Queensland','Victoria']\n",
    "'''\n",
    "states = [\"Alabama\",\"Alaska\",\"Arizona\",\"Arkansas\",\"California\",\"Colorado\",\n",
    "  \"Connecticut\",\"Delaware\",\"Florida\",\"Georgia\",\"Hawaii\",\"Idaho\",\"Illinois\",\n",
    "  \"Indiana\",\"Iowa\",\"Kansas\",\"Kentucky\",\"Louisiana\",\"Maine\",\"Maryland\",\n",
    "  \"Massachusetts\",\"Michigan\",\"Minnesota\",\"Mississippi\",\"Missouri\",\"Montana\",\n",
    "  \"Nebraska\",\"Nevada\",\"New Hampshire\",\"New Jersey\",\"New Mexico\",\"New York\",\n",
    "  \"North Carolina\",\"North Dakota\",\"Ohio\",\"Oklahoma\",\"Oregon\",\"Pennsylvania\",\n",
    "  \"Rhode Island\",\"South Carolina\",\"South Dakota\",\"Tennessee\",\"Texas\",\"Utah\",\n",
    "  \"Vermont\",\"Virginia\",\"Washington\",\"West Virginia\",\"Wisconsin\",\"Wyoming\"]\n",
    "    \n"
   ]
  },
  {
   "cell_type": "code",
   "execution_count": null,
   "metadata": {},
   "outputs": [],
   "source": []
  },
  {
   "cell_type": "code",
   "execution_count": null,
   "metadata": {},
   "outputs": [],
   "source": []
  },
  {
   "cell_type": "code",
   "execution_count": null,
   "metadata": {},
   "outputs": [],
   "source": [
    "t0 = time.time()\n",
    "\n",
    "N = 2000\n",
    "result_list = []\n",
    "\n",
    "for num in range(N):\n",
    "    \n",
    "    lat = random.randint(24,50) + random.randint(0,100)/100\n",
    "    long = random.randint(-124,-67) + random.randint(0,100)/100\n",
    "    \n",
    "    '''\n",
    "    # generate random lats + longs (must be inside Australia bounding box)\n",
    "    lat = random.randint(-43,-10) + random.randint(0,100)/100\n",
    "    long = random.randint(113,153) + random.randint(0,100)/100\n",
    "    '''\n",
    "    coords = lat, long\n",
    "    result = geo.search(coords)[0]\n",
    "    \n",
    "    row = (lat,long,result['lat'],result['lon'],result['name'],result['admin1'],result['admin2'],result['cc'])\n",
    "    result_list.append(row)\n",
    "    #print(result)\n",
    "\n",
    "    if (num+1) % 100 == 0:\n",
    "        print(num+1)\n",
    "    \n",
    "t1 = time.time()\n",
    " \n",
    "cols = ['gps_lat','gps_long','lat','long','city','state','area','country']\n",
    "df = pd.DataFrame(result_list,columns=cols)\n",
    "\n",
    "df['state_flag'] = [row if row in states else 'None' for row in df['state'].values ]"
   ]
  },
  {
   "cell_type": "code",
   "execution_count": null,
   "metadata": {},
   "outputs": [],
   "source": [
    "df['lat'] = df['lat'].astype(float)\n",
    "df['long'] = df['long'].astype(float)"
   ]
  },
  {
   "cell_type": "code",
   "execution_count": null,
   "metadata": {},
   "outputs": [],
   "source": [
    "# no. of minutes\n",
    "((t1 - t0)/60)"
   ]
  },
  {
   "cell_type": "code",
   "execution_count": null,
   "metadata": {},
   "outputs": [],
   "source": [
    "print(,)"
   ]
  },
  {
   "cell_type": "code",
   "execution_count": null,
   "metadata": {},
   "outputs": [],
   "source": [
    "\n",
    "CSVs = [file for file in os.listdir(rawDataDir) \n",
    "        if ('.csv' and 'geocode' and 'US') in file]\n",
    "CSVs.sort()\n",
    "\n",
    "prev_filename = f\"{rawDataDir}/reverse_US_geocode_results_pull{len(CSVs)}.csv\"\n",
    "try:\n",
    "    prev_df = pd.read_csv(prev_filename)\n",
    "    df = pd.concat([prev_df,df]).reset_index(drop=True)\n",
    "except: pass\n",
    "\n",
    "df.drop_duplicates(inplace=True)\n",
    "\n",
    "filename = f\"{rawDataDir}/reverse_US_geocode_results_pull{len(CSVs)+1}.csv\"\n",
    "df.to_csv(filename,index=False)\n",
    "\n",
    "print(df.shape)\n"
   ]
  },
  {
   "cell_type": "code",
   "execution_count": null,
   "metadata": {},
   "outputs": [],
   "source": []
  },
  {
   "cell_type": "code",
   "execution_count": null,
   "metadata": {},
   "outputs": [],
   "source": [
    "df.head()"
   ]
  },
  {
   "cell_type": "code",
   "execution_count": null,
   "metadata": {},
   "outputs": [],
   "source": [
    "df['state_flag'].value_counts()[:15]"
   ]
  },
  {
   "cell_type": "code",
   "execution_count": null,
   "metadata": {},
   "outputs": [],
   "source": []
  },
  {
   "cell_type": "code",
   "execution_count": null,
   "metadata": {},
   "outputs": [],
   "source": []
  },
  {
   "cell_type": "markdown",
   "metadata": {},
   "source": [
    "#### Plotting Data"
   ]
  },
  {
   "cell_type": "code",
   "execution_count": null,
   "metadata": {},
   "outputs": [],
   "source": [
    "import matplotlib.pyplot as plt"
   ]
  },
  {
   "cell_type": "code",
   "execution_count": null,
   "metadata": {},
   "outputs": [],
   "source": [
    "\n",
    "bounding_box = [(df['gps_long'].min(),df['gps_long'].max()),      \n",
    "                (df['gps_lat'].min(), df['gps_lat'].max())]\n"
   ]
  },
  {
   "cell_type": "code",
   "execution_count": null,
   "metadata": {},
   "outputs": [],
   "source": [
    "'''\n",
    "bounding_box = [(df['long'].min(),df['long'].max()),      \n",
    "                (df['lat'].min(), df['lat'].max())]\n",
    "'''"
   ]
  },
  {
   "cell_type": "code",
   "execution_count": null,
   "metadata": {},
   "outputs": [],
   "source": [
    "fig, ax = plt.subplots(figsize = (12,10))\n",
    "\n",
    "color_dict = {'Western Australia':'orange',\n",
    "              'South Australia':'yellow',\n",
    "              'New South Wales':'green',\n",
    "              'Tasmania':'cyan',\n",
    "              'Northern Territory':'red',\n",
    "              'Queensland':'maroon',\n",
    "              'Victoria':'grey',\n",
    "              'None':'blue'\n",
    "             }\n",
    "\n",
    "plt.scatter(df['gps_long'],df['gps_lat']\n",
    "            ,alpha=0.5\n",
    "            ,c=df['state_flag'].apply(lambda x: color_dict[x]));"
   ]
  },
  {
   "cell_type": "code",
   "execution_count": null,
   "metadata": {},
   "outputs": [],
   "source": []
  },
  {
   "cell_type": "code",
   "execution_count": null,
   "metadata": {},
   "outputs": [],
   "source": [
    "\n",
    "bounding_box = [(df['long'].min(),df['long'].max()),      \n",
    "                (df['lat'].min(), df['lat'].max())]\n"
   ]
  },
  {
   "cell_type": "code",
   "execution_count": null,
   "metadata": {},
   "outputs": [],
   "source": [
    "fig, ax = plt.subplots(figsize = (12,10))\n",
    "\n",
    "color_dict = {'Western Australia':'orange',\n",
    "              'South Australia':'yellow',\n",
    "              'New South Wales':'green',\n",
    "              'Tasmania':'cyan',\n",
    "              'Northern Territory':'red',\n",
    "              'Queensland':'maroon',\n",
    "              'Victoria':'grey',\n",
    "              'None':'blue'\n",
    "             }\n",
    "\n",
    "plt.scatter(df['long'],df['lat']\n",
    "            ,alpha=0.5\n",
    "            ,c=df['state_flag'].apply(lambda x: color_dict[x]));"
   ]
  },
  {
   "cell_type": "code",
   "execution_count": null,
   "metadata": {},
   "outputs": [],
   "source": []
  },
  {
   "cell_type": "code",
   "execution_count": null,
   "metadata": {},
   "outputs": [],
   "source": [
    "df.head()"
   ]
  },
  {
   "cell_type": "code",
   "execution_count": null,
   "metadata": {},
   "outputs": [],
   "source": [
    "# df[df['country']!='AU']"
   ]
  },
  {
   "cell_type": "code",
   "execution_count": null,
   "metadata": {},
   "outputs": [],
   "source": []
  },
  {
   "cell_type": "code",
   "execution_count": null,
   "metadata": {},
   "outputs": [],
   "source": []
  },
  {
   "cell_type": "code",
   "execution_count": null,
   "metadata": {},
   "outputs": [],
   "source": []
  }
 ],
 "metadata": {
  "kernelspec": {
   "display_name": "web-scraper",
   "language": "python",
   "name": "web-scraper"
  },
  "language_info": {
   "codemirror_mode": {
    "name": "ipython",
    "version": 3
   },
   "file_extension": ".py",
   "mimetype": "text/x-python",
   "name": "python",
   "nbconvert_exporter": "python",
   "pygments_lexer": "ipython3",
   "version": "3.6.3"
  }
 },
 "nbformat": 4,
 "nbformat_minor": 4
}
