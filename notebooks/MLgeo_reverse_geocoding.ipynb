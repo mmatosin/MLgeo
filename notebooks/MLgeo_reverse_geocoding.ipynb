{
 "cells": [
  {
   "cell_type": "code",
   "execution_count": 1,
   "metadata": {},
   "outputs": [],
   "source": [
    "import pandas as pd\n",
    "import numpy as np\n",
    "import os, time, random"
   ]
  },
  {
   "cell_type": "code",
   "execution_count": null,
   "metadata": {},
   "outputs": [],
   "source": []
  },
  {
   "cell_type": "markdown",
   "metadata": {},
   "source": [
    "#### Identify Directories"
   ]
  },
  {
   "cell_type": "code",
   "execution_count": 2,
   "metadata": {},
   "outputs": [],
   "source": [
    "currDir = os.getcwd()\n",
    "rootDir = os.path.abspath(os.path.join(currDir,'..'))\n",
    "\n",
    "dataDir = os.path.abspath(os.path.join(rootDir,'data'))\n",
    "rawDataDir = os.path.abspath(os.path.join(dataDir,'raw'))\n",
    "interimDataDir = os.path.abspath(os.path.join(dataDir,'interim'))\n",
    "finalDataDir = os.path.abspath(os.path.join(dataDir,'final'))"
   ]
  },
  {
   "cell_type": "code",
   "execution_count": null,
   "metadata": {},
   "outputs": [],
   "source": []
  },
  {
   "cell_type": "markdown",
   "metadata": {},
   "source": [
    "#### Reverse Geocoding"
   ]
  },
  {
   "cell_type": "code",
   "execution_count": 36,
   "metadata": {},
   "outputs": [],
   "source": [
    "import reverse_geocoder as geo\n",
    "\n",
    "'''\n",
    "Australia bounding box: ('Australia', (113.338953078, -43.6345972634, 153.569469029, -10.6681857235))\n",
    "found here: https://gist.github.com/graydon/11198540\n",
    "\n",
    "'US': ('United States', (-171.791110603, 18.91619, -66.96466, 71.3577635769))\n",
    "'''  "
   ]
  },
  {
   "cell_type": "code",
   "execution_count": null,
   "metadata": {},
   "outputs": [],
   "source": []
  },
  {
   "cell_type": "code",
   "execution_count": 95,
   "metadata": {},
   "outputs": [],
   "source": [
    "'''\n",
    "states = ['Western Australia','South Australia','New South Wales',\n",
    "          'Tasmania','Northern Territory','Queensland','Victoria']\n",
    "'''\n",
    "states = [\"Alabama\",\"Alaska\",\"Arizona\",\"Arkansas\",\"California\",\"Colorado\",\n",
    "  \"Connecticut\",\"Delaware\",\"Florida\",\"Georgia\",\"Hawaii\",\"Idaho\",\"Illinois\",\n",
    "  \"Indiana\",\"Iowa\",\"Kansas\",\"Kentucky\",\"Louisiana\",\"Maine\",\"Maryland\",\n",
    "  \"Massachusetts\",\"Michigan\",\"Minnesota\",\"Mississippi\",\"Missouri\",\"Montana\",\n",
    "  \"Nebraska\",\"Nevada\",\"New Hampshire\",\"New Jersey\",\"New Mexico\",\"New York\",\n",
    "  \"North Carolina\",\"North Dakota\",\"Ohio\",\"Oklahoma\",\"Oregon\",\"Pennsylvania\",\n",
    "  \"Rhode Island\",\"South Carolina\",\"South Dakota\",\"Tennessee\",\"Texas\",\"Utah\",\n",
    "  \"Vermont\",\"Virginia\",\"Washington\",\"West Virginia\",\"Wisconsin\",\"Wyoming\"]\n",
    "    \n"
   ]
  },
  {
   "cell_type": "code",
   "execution_count": 113,
   "metadata": {},
   "outputs": [
    {
     "name": "stdout",
     "output_type": "stream",
     "text": [
      "100\n",
      "200\n",
      "300\n",
      "400\n",
      "500\n",
      "600\n",
      "700\n",
      "800\n",
      "900\n",
      "1000\n"
     ]
    }
   ],
   "source": [
    "t0 = time.time()\n",
    "\n",
    "N = 1000\n",
    "result_list = []\n",
    "\n",
    "for num in range(N):\n",
    "    \n",
    "    lat = random.randint(24,50) + random.randint(0,100)/100\n",
    "    long = random.randint(-124,-67) + random.randint(0,100)/100\n",
    "    \n",
    "    '''\n",
    "    # generate random lats + longs (must be inside Australia bounding box)\n",
    "    lat = random.randint(-43,-10) + random.randint(0,100)/100\n",
    "    long = random.randint(113,153) + random.randint(0,100)/100\n",
    "    '''\n",
    "    coords = lat, long\n",
    "    result = geo.search(coords)[0]\n",
    "    \n",
    "    row = (lat,long,result['lat'],result['lon'],result['name'],result['admin1'],result['admin2'],result['cc'])\n",
    "    result_list.append(row)\n",
    "    #print(result)\n",
    "\n",
    "    if (num+1) % 100 == 0:\n",
    "        print(num+1)\n",
    "    \n",
    "t1 = time.time()\n",
    " \n",
    "cols = ['gps_lat','gps_long','lat','long','city','state','area','country']\n",
    "df = pd.DataFrame(result_list,columns=cols)\n",
    "\n",
    "df['state_flag'] = [row if row in states else 'None' for row in df['state'].values ]\n",
    "\n",
    "\n",
    "df['lat'] = df['lat'].astype(float)\n",
    "df['long'] = df['long'].astype(float)\n"
   ]
  },
  {
   "cell_type": "code",
   "execution_count": 114,
   "metadata": {},
   "outputs": [
    {
     "data": {
      "text/plain": [
       "22.952449464797972"
      ]
     },
     "execution_count": 114,
     "metadata": {},
     "output_type": "execute_result"
    }
   ],
   "source": [
    "# no. of minutes\n",
    "((t1 - t0)/60)"
   ]
  },
  {
   "cell_type": "code",
   "execution_count": null,
   "metadata": {},
   "outputs": [],
   "source": []
  },
  {
   "cell_type": "code",
   "execution_count": 115,
   "metadata": {},
   "outputs": [
    {
     "name": "stdout",
     "output_type": "stream",
     "text": [
      "(2200, 9)\n"
     ]
    }
   ],
   "source": [
    "\n",
    "CSVs = [file for file in os.listdir(rawDataDir) if ('.csv' and 'geocode' and 'US') in file]\n",
    "CSVs.sort()\n",
    "\n",
    "prev_filename = f\"{rawDataDir}/reverse_US_geocode_results_pull{len(CSVs)}.csv\"\n",
    "try:\n",
    "    prev_df = pd.read_csv(prev_filename)\n",
    "    df = pd.concat([prev_df,df]).reset_index(drop=True)\n",
    "except: pass\n",
    "\n",
    "df.drop_duplicates(inplace=True)\n",
    "\n",
    "filename = f\"{rawDataDir}/reverse_US_geocode_results_pull{len(CSVs)+1}.csv\"\n",
    "df.to_csv(filename,index=False)\n",
    "\n",
    "print(df.shape)\n"
   ]
  },
  {
   "cell_type": "code",
   "execution_count": null,
   "metadata": {},
   "outputs": [],
   "source": []
  },
  {
   "cell_type": "code",
   "execution_count": 111,
   "metadata": {},
   "outputs": [
    {
     "data": {
      "text/html": [
       "<div>\n",
       "<style scoped>\n",
       "    .dataframe tbody tr th:only-of-type {\n",
       "        vertical-align: middle;\n",
       "    }\n",
       "\n",
       "    .dataframe tbody tr th {\n",
       "        vertical-align: top;\n",
       "    }\n",
       "\n",
       "    .dataframe thead th {\n",
       "        text-align: right;\n",
       "    }\n",
       "</style>\n",
       "<table border=\"1\" class=\"dataframe\">\n",
       "  <thead>\n",
       "    <tr style=\"text-align: right;\">\n",
       "      <th></th>\n",
       "      <th>gps_lat</th>\n",
       "      <th>gps_long</th>\n",
       "      <th>lat</th>\n",
       "      <th>long</th>\n",
       "      <th>city</th>\n",
       "      <th>state</th>\n",
       "      <th>area</th>\n",
       "      <th>country</th>\n",
       "      <th>state_flag</th>\n",
       "    </tr>\n",
       "  </thead>\n",
       "  <tbody>\n",
       "    <tr>\n",
       "      <th>0</th>\n",
       "      <td>31.78</td>\n",
       "      <td>-94.33</td>\n",
       "      <td>31.90378</td>\n",
       "      <td>-94.39520</td>\n",
       "      <td>Timpson</td>\n",
       "      <td>Texas</td>\n",
       "      <td>Shelby County</td>\n",
       "      <td>US</td>\n",
       "      <td>Texas</td>\n",
       "    </tr>\n",
       "    <tr>\n",
       "      <th>1</th>\n",
       "      <td>38.77</td>\n",
       "      <td>-88.01</td>\n",
       "      <td>38.73088</td>\n",
       "      <td>-88.08532</td>\n",
       "      <td>Olney</td>\n",
       "      <td>Illinois</td>\n",
       "      <td>Richland County</td>\n",
       "      <td>US</td>\n",
       "      <td>Illinois</td>\n",
       "    </tr>\n",
       "    <tr>\n",
       "      <th>2</th>\n",
       "      <td>28.85</td>\n",
       "      <td>-81.03</td>\n",
       "      <td>28.73972</td>\n",
       "      <td>-81.11506</td>\n",
       "      <td>Geneva</td>\n",
       "      <td>Florida</td>\n",
       "      <td>Seminole County</td>\n",
       "      <td>US</td>\n",
       "      <td>Florida</td>\n",
       "    </tr>\n",
       "    <tr>\n",
       "      <th>3</th>\n",
       "      <td>25.86</td>\n",
       "      <td>-96.76</td>\n",
       "      <td>26.10369</td>\n",
       "      <td>-97.16469</td>\n",
       "      <td>South Padre Island</td>\n",
       "      <td>Texas</td>\n",
       "      <td>Cameron County</td>\n",
       "      <td>US</td>\n",
       "      <td>Texas</td>\n",
       "    </tr>\n",
       "    <tr>\n",
       "      <th>4</th>\n",
       "      <td>37.23</td>\n",
       "      <td>-97.89</td>\n",
       "      <td>37.28669</td>\n",
       "      <td>-98.02589</td>\n",
       "      <td>Harper</td>\n",
       "      <td>Kansas</td>\n",
       "      <td>Harper County</td>\n",
       "      <td>US</td>\n",
       "      <td>Kansas</td>\n",
       "    </tr>\n",
       "  </tbody>\n",
       "</table>\n",
       "</div>"
      ],
      "text/plain": [
       "   gps_lat  gps_long       lat      long                city     state  \\\n",
       "0    31.78    -94.33  31.90378 -94.39520             Timpson     Texas   \n",
       "1    38.77    -88.01  38.73088 -88.08532               Olney  Illinois   \n",
       "2    28.85    -81.03  28.73972 -81.11506              Geneva   Florida   \n",
       "3    25.86    -96.76  26.10369 -97.16469  South Padre Island     Texas   \n",
       "4    37.23    -97.89  37.28669 -98.02589              Harper    Kansas   \n",
       "\n",
       "              area country state_flag  \n",
       "0    Shelby County      US      Texas  \n",
       "1  Richland County      US   Illinois  \n",
       "2  Seminole County      US    Florida  \n",
       "3   Cameron County      US      Texas  \n",
       "4    Harper County      US     Kansas  "
      ]
     },
     "execution_count": 111,
     "metadata": {},
     "output_type": "execute_result"
    }
   ],
   "source": [
    "df.head()"
   ]
  },
  {
   "cell_type": "code",
   "execution_count": 112,
   "metadata": {},
   "outputs": [
    {
     "data": {
      "text/plain": [
       "None              378\n",
       "Texas              74\n",
       "California         73\n",
       "Florida            40\n",
       "North Carolina     32\n",
       "Montana            32\n",
       "New Mexico         27\n",
       "Nevada             27\n",
       "Colorado           24\n",
       "Wyoming            24\n",
       "Michigan           24\n",
       "Massachusetts      23\n",
       "Idaho              22\n",
       "Louisiana          22\n",
       "Utah               19\n",
       "Name: state_flag, dtype: int64"
      ]
     },
     "execution_count": 112,
     "metadata": {},
     "output_type": "execute_result"
    }
   ],
   "source": [
    "df['state_flag'].value_counts()[:15]"
   ]
  },
  {
   "cell_type": "code",
   "execution_count": null,
   "metadata": {},
   "outputs": [],
   "source": []
  },
  {
   "cell_type": "code",
   "execution_count": null,
   "metadata": {},
   "outputs": [],
   "source": []
  },
  {
   "cell_type": "markdown",
   "metadata": {},
   "source": [
    "#### Plotting Data"
   ]
  },
  {
   "cell_type": "code",
   "execution_count": 90,
   "metadata": {},
   "outputs": [],
   "source": [
    "import matplotlib.pyplot as plt"
   ]
  },
  {
   "cell_type": "code",
   "execution_count": 91,
   "metadata": {},
   "outputs": [],
   "source": [
    "\n",
    "bounding_box = [(df['gps_long'].min(),df['gps_long'].max()),      \n",
    "                (df['gps_lat'].min(), df['gps_lat'].max())]\n"
   ]
  },
  {
   "cell_type": "code",
   "execution_count": 92,
   "metadata": {},
   "outputs": [
    {
     "data": {
      "text/plain": [
       "\"\\nbounding_box = [(df['long'].min(),df['long'].max()),      \\n                (df['lat'].min(), df['lat'].max())]\\n\""
      ]
     },
     "execution_count": 92,
     "metadata": {},
     "output_type": "execute_result"
    }
   ],
   "source": [
    "'''\n",
    "bounding_box = [(df['long'].min(),df['long'].max()),      \n",
    "                (df['lat'].min(), df['lat'].max())]\n",
    "'''"
   ]
  },
  {
   "cell_type": "code",
   "execution_count": 93,
   "metadata": {},
   "outputs": [
    {
     "ename": "KeyError",
     "evalue": "'US'",
     "output_type": "error",
     "traceback": [
      "\u001b[1;31m---------------------------------------------------------------------------\u001b[0m",
      "\u001b[1;31mKeyError\u001b[0m                                  Traceback (most recent call last)",
      "\u001b[1;32m<ipython-input-93-0ec1f82b8562>\u001b[0m in \u001b[0;36m<module>\u001b[1;34m\u001b[0m\n\u001b[0;32m     13\u001b[0m plt.scatter(df['gps_long'],df['gps_lat']\n\u001b[0;32m     14\u001b[0m             \u001b[1;33m,\u001b[0m\u001b[0malpha\u001b[0m\u001b[1;33m=\u001b[0m\u001b[1;36m0.5\u001b[0m\u001b[1;33m\u001b[0m\u001b[1;33m\u001b[0m\u001b[0m\n\u001b[1;32m---> 15\u001b[1;33m             ,c=df['state_flag'].apply(lambda x: color_dict[x]));\n\u001b[0m",
      "\u001b[1;32m~\\Anaconda3\\lib\\site-packages\\pandas\\core\\series.py\u001b[0m in \u001b[0;36mapply\u001b[1;34m(self, func, convert_dtype, args, **kwds)\u001b[0m\n\u001b[0;32m   3589\u001b[0m             \u001b[1;32melse\u001b[0m\u001b[1;33m:\u001b[0m\u001b[1;33m\u001b[0m\u001b[1;33m\u001b[0m\u001b[0m\n\u001b[0;32m   3590\u001b[0m                 \u001b[0mvalues\u001b[0m \u001b[1;33m=\u001b[0m \u001b[0mself\u001b[0m\u001b[1;33m.\u001b[0m\u001b[0mastype\u001b[0m\u001b[1;33m(\u001b[0m\u001b[0mobject\u001b[0m\u001b[1;33m)\u001b[0m\u001b[1;33m.\u001b[0m\u001b[0mvalues\u001b[0m\u001b[1;33m\u001b[0m\u001b[1;33m\u001b[0m\u001b[0m\n\u001b[1;32m-> 3591\u001b[1;33m                 \u001b[0mmapped\u001b[0m \u001b[1;33m=\u001b[0m \u001b[0mlib\u001b[0m\u001b[1;33m.\u001b[0m\u001b[0mmap_infer\u001b[0m\u001b[1;33m(\u001b[0m\u001b[0mvalues\u001b[0m\u001b[1;33m,\u001b[0m \u001b[0mf\u001b[0m\u001b[1;33m,\u001b[0m \u001b[0mconvert\u001b[0m\u001b[1;33m=\u001b[0m\u001b[0mconvert_dtype\u001b[0m\u001b[1;33m)\u001b[0m\u001b[1;33m\u001b[0m\u001b[1;33m\u001b[0m\u001b[0m\n\u001b[0m\u001b[0;32m   3592\u001b[0m \u001b[1;33m\u001b[0m\u001b[0m\n\u001b[0;32m   3593\u001b[0m         \u001b[1;32mif\u001b[0m \u001b[0mlen\u001b[0m\u001b[1;33m(\u001b[0m\u001b[0mmapped\u001b[0m\u001b[1;33m)\u001b[0m \u001b[1;32mand\u001b[0m \u001b[0misinstance\u001b[0m\u001b[1;33m(\u001b[0m\u001b[0mmapped\u001b[0m\u001b[1;33m[\u001b[0m\u001b[1;36m0\u001b[0m\u001b[1;33m]\u001b[0m\u001b[1;33m,\u001b[0m \u001b[0mSeries\u001b[0m\u001b[1;33m)\u001b[0m\u001b[1;33m:\u001b[0m\u001b[1;33m\u001b[0m\u001b[1;33m\u001b[0m\u001b[0m\n",
      "\u001b[1;32mpandas/_libs/lib.pyx\u001b[0m in \u001b[0;36mpandas._libs.lib.map_infer\u001b[1;34m()\u001b[0m\n",
      "\u001b[1;32m<ipython-input-93-0ec1f82b8562>\u001b[0m in \u001b[0;36m<lambda>\u001b[1;34m(x)\u001b[0m\n\u001b[0;32m     13\u001b[0m plt.scatter(df['gps_long'],df['gps_lat']\n\u001b[0;32m     14\u001b[0m             \u001b[1;33m,\u001b[0m\u001b[0malpha\u001b[0m\u001b[1;33m=\u001b[0m\u001b[1;36m0.5\u001b[0m\u001b[1;33m\u001b[0m\u001b[1;33m\u001b[0m\u001b[0m\n\u001b[1;32m---> 15\u001b[1;33m             ,c=df['state_flag'].apply(lambda x: color_dict[x]));\n\u001b[0m",
      "\u001b[1;31mKeyError\u001b[0m: 'US'"
     ]
    },
    {
     "data": {
      "image/png": "[encoded data removed]",
      "text/plain": [
       "<Figure size 864x720 with 1 Axes>"
      ]
     },
     "metadata": {
      "needs_background": "light"
     },
     "output_type": "display_data"
    }
   ],
   "source": [
    "fig, ax = plt.subplots(figsize = (12,10))\n",
    "\n",
    "color_dict = {'Western Australia':'orange',\n",
    "              'South Australia':'yellow',\n",
    "              'New South Wales':'green',\n",
    "              'Tasmania':'cyan',\n",
    "              'Northern Territory':'red',\n",
    "              'Queensland':'maroon',\n",
    "              'Victoria':'grey',\n",
    "              'None':'blue'\n",
    "             }\n",
    "\n",
    "plt.scatter(df['gps_long'],df['gps_lat']\n",
    "            ,alpha=0.5\n",
    "            ,c=df['state_flag'].apply(lambda x: color_dict[x]));"
   ]
  },
  {
   "cell_type": "code",
   "execution_count": null,
   "metadata": {},
   "outputs": [],
   "source": []
  },
  {
   "cell_type": "code",
   "execution_count": null,
   "metadata": {},
   "outputs": [],
   "source": [
    "\n",
    "bounding_box = [(df['long'].min(),df['long'].max()),      \n",
    "                (df['lat'].min(), df['lat'].max())]\n"
   ]
  },
  {
   "cell_type": "code",
   "execution_count": null,
   "metadata": {},
   "outputs": [],
   "source": [
    "fig, ax = plt.subplots(figsize = (12,10))\n",
    "\n",
    "color_dict = {'Western Australia':'orange',\n",
    "              'South Australia':'yellow',\n",
    "              'New South Wales':'green',\n",
    "              'Tasmania':'cyan',\n",
    "              'Northern Territory':'red',\n",
    "              'Queensland':'maroon',\n",
    "              'Victoria':'grey',\n",
    "              'None':'blue'\n",
    "             }\n",
    "\n",
    "plt.scatter(df['long'],df['lat']\n",
    "            ,alpha=0.5\n",
    "            ,c=df['state_flag'].apply(lambda x: color_dict[x]));"
   ]
  },
  {
   "cell_type": "code",
   "execution_count": null,
   "metadata": {},
   "outputs": [],
   "source": []
  },
  {
   "cell_type": "code",
   "execution_count": null,
   "metadata": {},
   "outputs": [],
   "source": [
    "df.head()"
   ]
  },
  {
   "cell_type": "code",
   "execution_count": 64,
   "metadata": {},
   "outputs": [],
   "source": [
    "# df[df['country']!='AU']"
   ]
  },
  {
   "cell_type": "code",
   "execution_count": null,
   "metadata": {},
   "outputs": [],
   "source": []
  },
  {
   "cell_type": "code",
   "execution_count": null,
   "metadata": {},
   "outputs": [],
   "source": []
  }
 ],
 "metadata": {
  "kernelspec": {
   "display_name": "Python 3",
   "language": "python",
   "name": "python3"
  },
  "language_info": {
   "codemirror_mode": {
    "name": "ipython",
    "version": 3
   },
   "file_extension": ".py",
   "mimetype": "text/x-python",
   "name": "python",
   "nbconvert_exporter": "python",
   "pygments_lexer": "ipython3",
   "version": "3.7.3"
  }
 },
 "nbformat": 4,
 "nbformat_minor": 4
}
