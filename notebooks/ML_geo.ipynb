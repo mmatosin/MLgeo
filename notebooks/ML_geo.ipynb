{
 "cells": [
  {
   "cell_type": "code",
   "execution_count": 211,
   "metadata": {},
   "outputs": [],
   "source": [
    "import pandas as pd\n",
    "import numpy as np\n",
    "import os, time, random"
   ]
  },
  {
   "cell_type": "code",
   "execution_count": null,
   "metadata": {},
   "outputs": [],
   "source": []
  },
  {
   "cell_type": "code",
   "execution_count": null,
   "metadata": {},
   "outputs": [],
   "source": []
  },
  {
   "cell_type": "markdown",
   "metadata": {},
   "source": [
    "#### Web Scraping Lat/Longitudes"
   ]
  },
  {
   "cell_type": "code",
   "execution_count": 212,
   "metadata": {},
   "outputs": [],
   "source": [
    "from selenium import webdriver\n",
    "from bs4 import BeautifulSoup\n",
    "import urllib"
   ]
  },
  {
   "cell_type": "code",
   "execution_count": 213,
   "metadata": {},
   "outputs": [
    {
     "data": {
      "text/plain": [
       "'\\ndriver_path = \"/Users/Michael/chromedriver\"\\ndriver = webdriver.Chrome(driver_path)\\n\\nsoup.find(\"input\",id=\"latitude\")\\nsoup.find(\"input\",id=\"longitude\")\\n\\nAustralia bounding box: (\\'Australia\\', (113.338953078, -43.6345972634, 153.569469029, -10.6681857235))\\nfound here: https://gist.github.com/graydon/11198540\\n\\ncoordinates = [(-33.86,151.2),\\n               (113.338953078, -43.6345972634),\\n               (153.569469029, -10.6681857235)\\n               \\n              \\n              ]\\n\\n\\n'"
      ]
     },
     "execution_count": 213,
     "metadata": {},
     "output_type": "execute_result"
    }
   ],
   "source": [
    "'''\n",
    "driver_path = \"/Users/Michael/chromedriver\"\n",
    "driver = webdriver.Chrome(driver_path)\n",
    "\n",
    "soup.find(\"input\",id=\"latitude\")\n",
    "soup.find(\"input\",id=\"longitude\")\n",
    "\n",
    "Australia bounding box: ('Australia', (113.338953078, -43.6345972634, 153.569469029, -10.6681857235))\n",
    "found here: https://gist.github.com/graydon/11198540\n",
    "\n",
    "coordinates = [(-33.86,151.2),\n",
    "               (113.338953078, -43.6345972634),\n",
    "               (153.569469029, -10.6681857235)\n",
    "               \n",
    "              \n",
    "              ]\n",
    "\n",
    "\n",
    "'''"
   ]
  },
  {
   "cell_type": "code",
   "execution_count": null,
   "metadata": {},
   "outputs": [],
   "source": []
  },
  {
   "cell_type": "code",
   "execution_count": 214,
   "metadata": {},
   "outputs": [
    {
     "data": {
      "text/plain": [
       "'\\n# coordinates = (lat,long)\\ncoordinates = [(-33.86,151.2)]\\n\\ndriver_path = \"/Users/Michael/chromedriver\"\\ndriver = webdriver.Chrome(driver_path)\\n\\nurl = \"https://www.latlong.net/Show-Latitude-Longitude.html\"\\ndriver.get(url)\\n\\n#time.sleep(3)\\n\\nsource = driver.page_source\\nsoup = BeautifulSoup(source,\"html\")\\n\\ninput_lat = driver.find_element_by_id(\"latitude\")\\ninput_long = driver.find_element_by_id(\"longitude\")\\n\\ninput_lat.send_keys(str(lat))\\ninput_long.send_keys(str(long))\\n\\nconvert = driver.find_element_by_class_name(\"button\")\\nconvert.click()\\n\\nresult_source = driver.page_source\\nresult_soup = BeautifulSoup(result_source,\"html\")\\n\\nlocation = driver.find_element_by_class_name(\"bgw\").text\\n\\n#time.sleep(3)\\ndriver.close()\\n'"
      ]
     },
     "execution_count": 214,
     "metadata": {},
     "output_type": "execute_result"
    }
   ],
   "source": [
    "'''\n",
    "# coordinates = (lat,long)\n",
    "coordinates = [(-33.86,151.2)]\n",
    "\n",
    "driver_path = \"/Users/Michael/chromedriver\"\n",
    "driver = webdriver.Chrome(driver_path)\n",
    "\n",
    "url = \"https://www.latlong.net/Show-Latitude-Longitude.html\"\n",
    "driver.get(url)\n",
    "\n",
    "#time.sleep(3)\n",
    "\n",
    "source = driver.page_source\n",
    "soup = BeautifulSoup(source,\"html\")\n",
    "\n",
    "input_lat = driver.find_element_by_id(\"latitude\")\n",
    "input_long = driver.find_element_by_id(\"longitude\")\n",
    "\n",
    "input_lat.send_keys(str(lat))\n",
    "input_long.send_keys(str(long))\n",
    "\n",
    "convert = driver.find_element_by_class_name(\"button\")\n",
    "convert.click()\n",
    "\n",
    "result_source = driver.page_source\n",
    "result_soup = BeautifulSoup(result_source,\"html\")\n",
    "\n",
    "location = driver.find_element_by_class_name(\"bgw\").text\n",
    "\n",
    "#time.sleep(3)\n",
    "driver.close()\n",
    "'''\n"
   ]
  },
  {
   "cell_type": "code",
   "execution_count": null,
   "metadata": {},
   "outputs": [],
   "source": []
  },
  {
   "cell_type": "code",
   "execution_count": 215,
   "metadata": {},
   "outputs": [],
   "source": [
    "t0 = time.time()\n",
    "\n",
    "# instantiate driver\n",
    "driver_path = \"/Users/Michael/chromedriver\"\n",
    "driver = webdriver.Chrome(driver_path)\n",
    "\n",
    "# open chrome, go to URL\n",
    "url = \"https://www.latlong.net/Show-Latitude-Longitude.html\"\n",
    "driver.get(url)\n",
    "\n",
    "# iterate through lat/long values, submit request, save location string result\n",
    "'''\n",
    "if location_list == None:\n",
    "    location_list = []\n",
    "else: pass\n",
    "'''\n",
    "N = 10\n",
    "location_list = []\n",
    "for num in range(N):\n",
    "    \n",
    "    lat = random.randint(-43,-10) + random.randint(0,100)/100\n",
    "    long = random.randint(113,153) + random.randint(0,100)/100\n",
    "\n",
    "    input_lat = driver.find_element_by_id(\"latitude\")\n",
    "    input_long = driver.find_element_by_id(\"longitude\")\n",
    "\n",
    "    input_lat.clear()\n",
    "    input_long.clear()\n",
    "    \n",
    "    input_lat.send_keys(str(lat))\n",
    "    input_long.send_keys(str(long))\n",
    "\n",
    "    convert = driver.find_element_by_class_name(\"button\")\n",
    "    convert.click()\n",
    "\n",
    "    location = driver.find_element_by_class_name(\"bgw\").text\n",
    "    \n",
    "    if len(location)==0:\n",
    "        location = \"None\"\n",
    "    \n",
    "    location_list.append((lat,long,location))\n",
    "\n",
    "\n",
    "driver.close()\n",
    "\n",
    "t1 = time.time()"
   ]
  },
  {
   "cell_type": "code",
   "execution_count": 216,
   "metadata": {},
   "outputs": [
    {
     "data": {
      "text/plain": [
       "38.48725509643555"
      ]
     },
     "execution_count": 216,
     "metadata": {},
     "output_type": "execute_result"
    }
   ],
   "source": [
    "t1-t0\n",
    "\n",
    "# approv 38.5 seconds for 10 sets of coordinates\n",
    "# approx 64 minutes per 1000 sets of coordinates"
   ]
  },
  {
   "cell_type": "code",
   "execution_count": null,
   "metadata": {},
   "outputs": [],
   "source": []
  },
  {
   "cell_type": "markdown",
   "metadata": {},
   "source": [
    "#### Extracting States from Location Strings"
   ]
  },
  {
   "cell_type": "code",
   "execution_count": 217,
   "metadata": {},
   "outputs": [],
   "source": [
    "states = ['Western Australia','South Australia','New South Wales',\n",
    "          'Tasmania','Northern Territory','Queensland']"
   ]
  },
  {
   "cell_type": "code",
   "execution_count": null,
   "metadata": {},
   "outputs": [],
   "source": []
  },
  {
   "cell_type": "code",
   "execution_count": 218,
   "metadata": {},
   "outputs": [
    {
     "name": "stdout",
     "output_type": "stream",
     "text": [
      "10\n",
      "10\n"
     ]
    }
   ],
   "source": [
    "# [x for x in location_list if x.contains(states)]\n",
    "\n",
    "result = []\n",
    "for lat,long,location in location_list:\n",
    "    location = location.split('\\n')[0]\n",
    "    for state in states:\n",
    "        if state.lower() in location.lower():\n",
    "            res = (lat,long,state)\n",
    "            break\n",
    "        else:\n",
    "            res = (lat,long,'None')\n",
    "\n",
    "        \n",
    "    result.append(res)\n",
    "        \n",
    "print(len(location_list))\n",
    "print(len(result))"
   ]
  },
  {
   "cell_type": "code",
   "execution_count": 219,
   "metadata": {},
   "outputs": [
    {
     "data": {
      "text/plain": [
       "[(-36.31, 133.8, 'None'),\n",
       " (-32.27, 150.84, 'New South Wales'),\n",
       " (-25.9, 122.63, 'Western Australia'),\n",
       " (-41.19, 138.89, 'None'),\n",
       " (-37.81, 123.86, 'None'),\n",
       " (-34.36, 127.24, 'None'),\n",
       " (-13.61, 145.75, 'None'),\n",
       " (-9.95, 127.01, 'None'),\n",
       " (-36.24, 122.97, 'None'),\n",
       " (-41.9, 113.92, 'None')]"
      ]
     },
     "execution_count": 219,
     "metadata": {},
     "output_type": "execute_result"
    }
   ],
   "source": [
    "result"
   ]
  },
  {
   "cell_type": "code",
   "execution_count": null,
   "metadata": {},
   "outputs": [],
   "source": []
  },
  {
   "cell_type": "code",
   "execution_count": 220,
   "metadata": {},
   "outputs": [
    {
     "data": {
      "text/plain": [
       "'\\nk = 12\\nlocation_list[:k]\\nresult[:k]\\n'"
      ]
     },
     "execution_count": 220,
     "metadata": {},
     "output_type": "execute_result"
    }
   ],
   "source": [
    "'''\n",
    "k = 12\n",
    "location_list[:k]\n",
    "result[:k]\n",
    "'''"
   ]
  },
  {
   "cell_type": "code",
   "execution_count": null,
   "metadata": {},
   "outputs": [],
   "source": []
  },
  {
   "cell_type": "code",
   "execution_count": null,
   "metadata": {},
   "outputs": [],
   "source": []
  },
  {
   "cell_type": "code",
   "execution_count": null,
   "metadata": {},
   "outputs": [],
   "source": []
  }
 ],
 "metadata": {
  "kernelspec": {
   "display_name": "web-scraper",
   "language": "python",
   "name": "web-scraper"
  },
  "language_info": {
   "codemirror_mode": {
    "name": "ipython",
    "version": 3
   },
   "file_extension": ".py",
   "mimetype": "text/x-python",
   "name": "python",
   "nbconvert_exporter": "python",
   "pygments_lexer": "ipython3",
   "version": "3.6.3"
  }
 },
 "nbformat": 4,
 "nbformat_minor": 2
}
