{
 "cells": [
  {
   "cell_type": "code",
   "execution_count": 293,
   "metadata": {},
   "outputs": [],
   "source": [
    "import pandas as pd\n",
    "import numpy as np\n",
    "import os, time, random"
   ]
  },
  {
   "cell_type": "code",
   "execution_count": null,
   "metadata": {},
   "outputs": [],
   "source": []
  },
  {
   "cell_type": "markdown",
   "metadata": {},
   "source": [
    "#### Identify Directories"
   ]
  },
  {
   "cell_type": "code",
   "execution_count": null,
   "metadata": {},
   "outputs": [],
   "source": []
  },
  {
   "cell_type": "code",
   "execution_count": null,
   "metadata": {},
   "outputs": [],
   "source": []
  },
  {
   "cell_type": "markdown",
   "metadata": {},
   "source": [
    "#### Web Scraping Lat/Longitudes (w/ Selenium)"
   ]
  },
  {
   "cell_type": "code",
   "execution_count": 294,
   "metadata": {},
   "outputs": [],
   "source": [
    "from selenium import webdriver\n",
    "from bs4 import BeautifulSoup\n",
    "import urllib\n",
    "\n",
    "# https://pythonprogramming.net/urllib-tutorial-python-3/\n",
    "# https://www.linkedin.com/pulse/how-easy-scraping-data-from-linkedin-profiles-david-craven/"
   ]
  },
  {
   "cell_type": "code",
   "execution_count": 295,
   "metadata": {},
   "outputs": [
    {
     "data": {
      "text/plain": [
       "'\\ndriver_path = \"/Users/Michael/chromedriver\"\\ndriver = webdriver.Chrome(driver_path)\\n\\nsoup.find(\"input\",id=\"latitude\")\\nsoup.find(\"input\",id=\"longitude\")\\n\\nAustralia bounding box: (\\'Australia\\', (113.338953078, -43.6345972634, 153.569469029, -10.6681857235))\\nfound here: https://gist.github.com/graydon/11198540\\n\\ncoordinates = [(-33.86,151.2),\\n               (113.338953078, -43.6345972634),\\n               (153.569469029, -10.6681857235)\\n               \\n              \\n              ]\\n\\n\\n'"
      ]
     },
     "execution_count": 295,
     "metadata": {},
     "output_type": "execute_result"
    }
   ],
   "source": [
    "'''\n",
    "driver_path = \"/Users/Michael/chromedriver\"\n",
    "driver = webdriver.Chrome(driver_path)\n",
    "\n",
    "soup.find(\"input\",id=\"latitude\")\n",
    "soup.find(\"input\",id=\"longitude\")\n",
    "\n",
    "Australia bounding box: ('Australia', (113.338953078, -43.6345972634, 153.569469029, -10.6681857235))\n",
    "found here: https://gist.github.com/graydon/11198540\n",
    "\n",
    "coordinates = [(-33.86,151.2),\n",
    "               (113.338953078, -43.6345972634),\n",
    "               (153.569469029, -10.6681857235)\n",
    "               \n",
    "              \n",
    "              ]\n",
    "\n",
    "\n",
    "'''"
   ]
  },
  {
   "cell_type": "code",
   "execution_count": null,
   "metadata": {},
   "outputs": [],
   "source": []
  },
  {
   "cell_type": "code",
   "execution_count": 296,
   "metadata": {},
   "outputs": [
    {
     "data": {
      "text/plain": [
       "'\\n# coordinates = (lat,long)\\ncoordinates = [(-33.86,151.2)]\\n\\ndriver_path = \"/Users/Michael/chromedriver\"\\ndriver = webdriver.Chrome(driver_path)\\n\\nurl = \"https://www.latlong.net/Show-Latitude-Longitude.html\"\\ndriver.get(url)\\n\\n#time.sleep(3)\\n\\nsource = driver.page_source\\nsoup = BeautifulSoup(source,\"html\")\\n\\ninput_lat = driver.find_element_by_id(\"latitude\")\\ninput_long = driver.find_element_by_id(\"longitude\")\\n\\ninput_lat.send_keys(str(lat))\\ninput_long.send_keys(str(long))\\n\\nconvert = driver.find_element_by_class_name(\"button\")\\nconvert.click()\\n\\nresult_source = driver.page_source\\nresult_soup = BeautifulSoup(result_source,\"html\")\\n\\nlocation = driver.find_element_by_class_name(\"bgw\").text\\n\\n#time.sleep(3)\\ndriver.close()\\n'"
      ]
     },
     "execution_count": 296,
     "metadata": {},
     "output_type": "execute_result"
    }
   ],
   "source": [
    "'''\n",
    "# coordinates = (lat,long)\n",
    "coordinates = [(-33.86,151.2)]\n",
    "\n",
    "driver_path = \"/Users/Michael/chromedriver\"\n",
    "driver = webdriver.Chrome(driver_path)\n",
    "\n",
    "url = \"https://www.latlong.net/Show-Latitude-Longitude.html\"\n",
    "driver.get(url)\n",
    "\n",
    "#time.sleep(3)\n",
    "\n",
    "source = driver.page_source\n",
    "soup = BeautifulSoup(source,\"html\")\n",
    "\n",
    "input_lat = driver.find_element_by_id(\"latitude\")\n",
    "input_long = driver.find_element_by_id(\"longitude\")\n",
    "\n",
    "input_lat.send_keys(str(lat))\n",
    "input_long.send_keys(str(long))\n",
    "\n",
    "convert = driver.find_element_by_class_name(\"button\")\n",
    "convert.click()\n",
    "\n",
    "result_source = driver.page_source\n",
    "result_soup = BeautifulSoup(result_source,\"html\")\n",
    "\n",
    "location = driver.find_element_by_class_name(\"bgw\").text\n",
    "\n",
    "#time.sleep(3)\n",
    "driver.close()\n",
    "'''\n"
   ]
  },
  {
   "cell_type": "code",
   "execution_count": null,
   "metadata": {},
   "outputs": [],
   "source": []
  },
  {
   "cell_type": "code",
   "execution_count": 366,
   "metadata": {},
   "outputs": [
    {
     "name": "stdout",
     "output_type": "stream",
     "text": [
      "100\n",
      "200\n",
      "300\n",
      "400\n",
      "500\n",
      "600\n",
      "700\n",
      "800\n",
      "900\n",
      "1000\n"
     ]
    },
    {
     "ename": "NoSuchWindowException",
     "evalue": "Message: no such window: target window already closed\nfrom unknown error: web view not found\n  (Session info: chrome=78.0.3904.108)\n",
     "output_type": "error",
     "traceback": [
      "\u001b[0;31m---------------------------------------------------------------------------\u001b[0m",
      "\u001b[0;31mNoSuchWindowException\u001b[0m                     Traceback (most recent call last)",
      "\u001b[0;32m<ipython-input-366-1f3c4ab881af>\u001b[0m in \u001b[0;36m<module>\u001b[0;34m\u001b[0m\n\u001b[1;32m     40\u001b[0m \u001b[0;34m\u001b[0m\u001b[0m\n\u001b[1;32m     41\u001b[0m     \u001b[0;31m# record request output\u001b[0m\u001b[0;34m\u001b[0m\u001b[0;34m\u001b[0m\u001b[0m\n\u001b[0;32m---> 42\u001b[0;31m     \u001b[0mlocation\u001b[0m \u001b[0;34m=\u001b[0m \u001b[0mdriver\u001b[0m\u001b[0;34m.\u001b[0m\u001b[0mfind_element_by_class_name\u001b[0m\u001b[0;34m(\u001b[0m\u001b[0;34m\"bgw\"\u001b[0m\u001b[0;34m)\u001b[0m\u001b[0;34m.\u001b[0m\u001b[0mtext\u001b[0m\u001b[0;34m\u001b[0m\u001b[0m\n\u001b[0m\u001b[1;32m     43\u001b[0m \u001b[0;34m\u001b[0m\u001b[0m\n\u001b[1;32m     44\u001b[0m     \u001b[0;31m# if no address is found, record 'None'\u001b[0m\u001b[0;34m\u001b[0m\u001b[0;34m\u001b[0m\u001b[0m\n",
      "\u001b[0;32m~/anaconda3/envs/web-scrape-env/lib/python3.6/site-packages/selenium/webdriver/remote/webdriver.py\u001b[0m in \u001b[0;36mfind_element_by_class_name\u001b[0;34m(self, name)\u001b[0m\n\u001b[1;32m    562\u001b[0m             \u001b[0melement\u001b[0m \u001b[0;34m=\u001b[0m \u001b[0mdriver\u001b[0m\u001b[0;34m.\u001b[0m\u001b[0mfind_element_by_class_name\u001b[0m\u001b[0;34m(\u001b[0m\u001b[0;34m'foo'\u001b[0m\u001b[0;34m)\u001b[0m\u001b[0;34m\u001b[0m\u001b[0m\n\u001b[1;32m    563\u001b[0m         \"\"\"\n\u001b[0;32m--> 564\u001b[0;31m         \u001b[0;32mreturn\u001b[0m \u001b[0mself\u001b[0m\u001b[0;34m.\u001b[0m\u001b[0mfind_element\u001b[0m\u001b[0;34m(\u001b[0m\u001b[0mby\u001b[0m\u001b[0;34m=\u001b[0m\u001b[0mBy\u001b[0m\u001b[0;34m.\u001b[0m\u001b[0mCLASS_NAME\u001b[0m\u001b[0;34m,\u001b[0m \u001b[0mvalue\u001b[0m\u001b[0;34m=\u001b[0m\u001b[0mname\u001b[0m\u001b[0;34m)\u001b[0m\u001b[0;34m\u001b[0m\u001b[0m\n\u001b[0m\u001b[1;32m    565\u001b[0m \u001b[0;34m\u001b[0m\u001b[0m\n\u001b[1;32m    566\u001b[0m     \u001b[0;32mdef\u001b[0m \u001b[0mfind_elements_by_class_name\u001b[0m\u001b[0;34m(\u001b[0m\u001b[0mself\u001b[0m\u001b[0;34m,\u001b[0m \u001b[0mname\u001b[0m\u001b[0;34m)\u001b[0m\u001b[0;34m:\u001b[0m\u001b[0;34m\u001b[0m\u001b[0m\n",
      "\u001b[0;32m~/anaconda3/envs/web-scrape-env/lib/python3.6/site-packages/selenium/webdriver/remote/webdriver.py\u001b[0m in \u001b[0;36mfind_element\u001b[0;34m(self, by, value)\u001b[0m\n\u001b[1;32m    976\u001b[0m         return self.execute(Command.FIND_ELEMENT, {\n\u001b[1;32m    977\u001b[0m             \u001b[0;34m'using'\u001b[0m\u001b[0;34m:\u001b[0m \u001b[0mby\u001b[0m\u001b[0;34m,\u001b[0m\u001b[0;34m\u001b[0m\u001b[0m\n\u001b[0;32m--> 978\u001b[0;31m             'value': value})['value']\n\u001b[0m\u001b[1;32m    979\u001b[0m \u001b[0;34m\u001b[0m\u001b[0m\n\u001b[1;32m    980\u001b[0m     \u001b[0;32mdef\u001b[0m \u001b[0mfind_elements\u001b[0m\u001b[0;34m(\u001b[0m\u001b[0mself\u001b[0m\u001b[0;34m,\u001b[0m \u001b[0mby\u001b[0m\u001b[0;34m=\u001b[0m\u001b[0mBy\u001b[0m\u001b[0;34m.\u001b[0m\u001b[0mID\u001b[0m\u001b[0;34m,\u001b[0m \u001b[0mvalue\u001b[0m\u001b[0;34m=\u001b[0m\u001b[0;32mNone\u001b[0m\u001b[0;34m)\u001b[0m\u001b[0;34m:\u001b[0m\u001b[0;34m\u001b[0m\u001b[0m\n",
      "\u001b[0;32m~/anaconda3/envs/web-scrape-env/lib/python3.6/site-packages/selenium/webdriver/remote/webdriver.py\u001b[0m in \u001b[0;36mexecute\u001b[0;34m(self, driver_command, params)\u001b[0m\n\u001b[1;32m    319\u001b[0m         \u001b[0mresponse\u001b[0m \u001b[0;34m=\u001b[0m \u001b[0mself\u001b[0m\u001b[0;34m.\u001b[0m\u001b[0mcommand_executor\u001b[0m\u001b[0;34m.\u001b[0m\u001b[0mexecute\u001b[0m\u001b[0;34m(\u001b[0m\u001b[0mdriver_command\u001b[0m\u001b[0;34m,\u001b[0m \u001b[0mparams\u001b[0m\u001b[0;34m)\u001b[0m\u001b[0;34m\u001b[0m\u001b[0m\n\u001b[1;32m    320\u001b[0m         \u001b[0;32mif\u001b[0m \u001b[0mresponse\u001b[0m\u001b[0;34m:\u001b[0m\u001b[0;34m\u001b[0m\u001b[0m\n\u001b[0;32m--> 321\u001b[0;31m             \u001b[0mself\u001b[0m\u001b[0;34m.\u001b[0m\u001b[0merror_handler\u001b[0m\u001b[0;34m.\u001b[0m\u001b[0mcheck_response\u001b[0m\u001b[0;34m(\u001b[0m\u001b[0mresponse\u001b[0m\u001b[0;34m)\u001b[0m\u001b[0;34m\u001b[0m\u001b[0m\n\u001b[0m\u001b[1;32m    322\u001b[0m             response['value'] = self._unwrap_value(\n\u001b[1;32m    323\u001b[0m                 response.get('value', None))\n",
      "\u001b[0;32m~/anaconda3/envs/web-scrape-env/lib/python3.6/site-packages/selenium/webdriver/remote/errorhandler.py\u001b[0m in \u001b[0;36mcheck_response\u001b[0;34m(self, response)\u001b[0m\n\u001b[1;32m    240\u001b[0m                 \u001b[0malert_text\u001b[0m \u001b[0;34m=\u001b[0m \u001b[0mvalue\u001b[0m\u001b[0;34m[\u001b[0m\u001b[0;34m'alert'\u001b[0m\u001b[0;34m]\u001b[0m\u001b[0;34m.\u001b[0m\u001b[0mget\u001b[0m\u001b[0;34m(\u001b[0m\u001b[0;34m'text'\u001b[0m\u001b[0;34m)\u001b[0m\u001b[0;34m\u001b[0m\u001b[0m\n\u001b[1;32m    241\u001b[0m             \u001b[0;32mraise\u001b[0m \u001b[0mexception_class\u001b[0m\u001b[0;34m(\u001b[0m\u001b[0mmessage\u001b[0m\u001b[0;34m,\u001b[0m \u001b[0mscreen\u001b[0m\u001b[0;34m,\u001b[0m \u001b[0mstacktrace\u001b[0m\u001b[0;34m,\u001b[0m \u001b[0malert_text\u001b[0m\u001b[0;34m)\u001b[0m\u001b[0;34m\u001b[0m\u001b[0m\n\u001b[0;32m--> 242\u001b[0;31m         \u001b[0;32mraise\u001b[0m \u001b[0mexception_class\u001b[0m\u001b[0;34m(\u001b[0m\u001b[0mmessage\u001b[0m\u001b[0;34m,\u001b[0m \u001b[0mscreen\u001b[0m\u001b[0;34m,\u001b[0m \u001b[0mstacktrace\u001b[0m\u001b[0;34m)\u001b[0m\u001b[0;34m\u001b[0m\u001b[0m\n\u001b[0m\u001b[1;32m    243\u001b[0m \u001b[0;34m\u001b[0m\u001b[0m\n\u001b[1;32m    244\u001b[0m     \u001b[0;32mdef\u001b[0m \u001b[0m_value_or_default\u001b[0m\u001b[0;34m(\u001b[0m\u001b[0mself\u001b[0m\u001b[0;34m,\u001b[0m \u001b[0mobj\u001b[0m\u001b[0;34m,\u001b[0m \u001b[0mkey\u001b[0m\u001b[0;34m,\u001b[0m \u001b[0mdefault\u001b[0m\u001b[0;34m)\u001b[0m\u001b[0;34m:\u001b[0m\u001b[0;34m\u001b[0m\u001b[0m\n",
      "\u001b[0;31mNoSuchWindowException\u001b[0m: Message: no such window: target window already closed\nfrom unknown error: web view not found\n  (Session info: chrome=78.0.3904.108)\n"
     ]
    }
   ],
   "source": [
    "t0 = time.time()\n",
    "\n",
    "# instantiate driver\n",
    "driver_path = \"/Users/Michael/chromedriver\"\n",
    "driver = webdriver.Chrome(driver_path)\n",
    "\n",
    "# open chrome, go to URL\n",
    "url = \"https://www.latlong.net/Show-Latitude-Longitude.html\"\n",
    "driver.get(url)\n",
    "\n",
    "# iterate through lat/long values, submit request, save location string result\n",
    "\n",
    "N = 2000\n",
    "if location_list == None:\n",
    "    location_list = []\n",
    "else: pass\n",
    "\n",
    "#location_list = []\n",
    "for num in range(N):\n",
    "    \n",
    "    # generate random lats + longs (must be inside Australia bounding box)\n",
    "    lat = random.randint(-43,-10) + random.randint(0,100)/100\n",
    "    long = random.randint(113,153) + random.randint(0,100)/100\n",
    "\n",
    "    # find lat + long input elements\n",
    "    input_lat = driver.find_element_by_id(\"latitude\")\n",
    "    input_long = driver.find_element_by_id(\"longitude\")\n",
    "\n",
    "    # clear input elements\n",
    "    input_lat.clear()\n",
    "    input_long.clear()\n",
    "    \n",
    "    # input a lat + long pair (must be in string format)\n",
    "    input_lat.send_keys(str(lat))\n",
    "    input_long.send_keys(str(long))\n",
    "\n",
    "    # convert input lat + long to address\n",
    "    convert = driver.find_element_by_class_name(\"button\")\n",
    "    convert.click()\n",
    "\n",
    "    # record request output\n",
    "    location = driver.find_element_by_class_name(\"bgw\").text\n",
    "    \n",
    "    # if no address is found, record 'None'\n",
    "    if len(location)==0:\n",
    "        location = \"None\"\n",
    "    \n",
    "    # append lat + long + location to list\n",
    "    location_list.append((lat,long,location))\n",
    "    \n",
    "    if (num+1) % 100 == 0:\n",
    "        print(num+1)\n",
    "\n",
    "# close browser\n",
    "driver.close()\n",
    "\n",
    "t1 = time.time()"
   ]
  },
  {
   "cell_type": "code",
   "execution_count": 367,
   "metadata": {},
   "outputs": [
    {
     "data": {
      "text/plain": [
       "6603"
      ]
     },
     "execution_count": 367,
     "metadata": {},
     "output_type": "execute_result"
    }
   ],
   "source": [
    "len(location_list)"
   ]
  },
  {
   "cell_type": "code",
   "execution_count": null,
   "metadata": {},
   "outputs": [],
   "source": []
  },
  {
   "cell_type": "code",
   "execution_count": 368,
   "metadata": {},
   "outputs": [
    {
     "name": "stdout",
     "output_type": "stream",
     "text": [
      "No of minutes: -737.4036483367285\n"
     ]
    }
   ],
   "source": [
    "mins = (t1-t0)/60\n",
    "\n",
    "print(\"No of minutes:\",mins)\n",
    "\n",
    "# approv 38.5 seconds for 10 sets of coordinates\n",
    "# approx 64 minutes per 1000 sets of coordinates"
   ]
  },
  {
   "cell_type": "code",
   "execution_count": null,
   "metadata": {},
   "outputs": [],
   "source": []
  },
  {
   "cell_type": "markdown",
   "metadata": {},
   "source": [
    "#### Extracting States from Location Strings"
   ]
  },
  {
   "cell_type": "code",
   "execution_count": 369,
   "metadata": {},
   "outputs": [],
   "source": [
    "states = ['Western Australia','South Australia','New South Wales',\n",
    "          'Tasmania','Northern Territory','Queensland','Victoria']"
   ]
  },
  {
   "cell_type": "code",
   "execution_count": null,
   "metadata": {},
   "outputs": [],
   "source": []
  },
  {
   "cell_type": "code",
   "execution_count": 370,
   "metadata": {},
   "outputs": [
    {
     "name": "stdout",
     "output_type": "stream",
     "text": [
      "6603\n",
      "6603\n"
     ]
    }
   ],
   "source": [
    "\n",
    "result = []\n",
    "for lat,long,location in location_list:\n",
    "    location = location.split('\\n')[0]\n",
    "    for state in states:\n",
    "        if state.lower() in location.lower():\n",
    "            res = (lat,long,state)\n",
    "            break\n",
    "        else:\n",
    "            res = (lat,long,'None')\n",
    "\n",
    "        \n",
    "    result.append(res)\n",
    "        \n",
    "print(len(location_list))\n",
    "print(len(result))\n"
   ]
  },
  {
   "cell_type": "code",
   "execution_count": 371,
   "metadata": {},
   "outputs": [
    {
     "name": "stdout",
     "output_type": "stream",
     "text": [
      "(6603, 3)\n"
     ]
    }
   ],
   "source": [
    "df = pd.DataFrame(result,columns=['Lat','Long','State'])\n",
    "print(df.shape)"
   ]
  },
  {
   "cell_type": "code",
   "execution_count": 376,
   "metadata": {},
   "outputs": [
    {
     "data": {
      "text/html": [
       "<div>\n",
       "<style scoped>\n",
       "    .dataframe tbody tr th:only-of-type {\n",
       "        vertical-align: middle;\n",
       "    }\n",
       "\n",
       "    .dataframe tbody tr th {\n",
       "        vertical-align: top;\n",
       "    }\n",
       "\n",
       "    .dataframe thead th {\n",
       "        text-align: right;\n",
       "    }\n",
       "</style>\n",
       "<table border=\"1\" class=\"dataframe\">\n",
       "  <thead>\n",
       "    <tr style=\"text-align: right;\">\n",
       "      <th></th>\n",
       "      <th>Lat</th>\n",
       "      <th>Long</th>\n",
       "      <th>State</th>\n",
       "    </tr>\n",
       "  </thead>\n",
       "  <tbody>\n",
       "    <tr>\n",
       "      <th>6598</th>\n",
       "      <td>-38.88</td>\n",
       "      <td>149.83</td>\n",
       "      <td>None</td>\n",
       "    </tr>\n",
       "    <tr>\n",
       "      <th>6599</th>\n",
       "      <td>-28.13</td>\n",
       "      <td>130.67</td>\n",
       "      <td>South Australia</td>\n",
       "    </tr>\n",
       "    <tr>\n",
       "      <th>6600</th>\n",
       "      <td>-13.54</td>\n",
       "      <td>124.60</td>\n",
       "      <td>None</td>\n",
       "    </tr>\n",
       "    <tr>\n",
       "      <th>6601</th>\n",
       "      <td>-32.35</td>\n",
       "      <td>150.38</td>\n",
       "      <td>New South Wales</td>\n",
       "    </tr>\n",
       "    <tr>\n",
       "      <th>6602</th>\n",
       "      <td>-16.11</td>\n",
       "      <td>124.97</td>\n",
       "      <td>Western Australia</td>\n",
       "    </tr>\n",
       "  </tbody>\n",
       "</table>\n",
       "</div>"
      ],
      "text/plain": [
       "        Lat    Long              State\n",
       "6598 -38.88  149.83               None\n",
       "6599 -28.13  130.67    South Australia\n",
       "6600 -13.54  124.60               None\n",
       "6601 -32.35  150.38    New South Wales\n",
       "6602 -16.11  124.97  Western Australia"
      ]
     },
     "execution_count": 376,
     "metadata": {},
     "output_type": "execute_result"
    }
   ],
   "source": [
    "df.tail()"
   ]
  },
  {
   "cell_type": "code",
   "execution_count": 373,
   "metadata": {},
   "outputs": [
    {
     "data": {
      "text/plain": [
       "None                  3404\n",
       "Western Australia      952\n",
       "Queensland             704\n",
       "Northern Territory     586\n",
       "South Australia        526\n",
       "New South Wales        313\n",
       "Victoria                83\n",
       "Tasmania                35\n",
       "Name: State, dtype: int64"
      ]
     },
     "execution_count": 373,
     "metadata": {},
     "output_type": "execute_result"
    }
   ],
   "source": [
    "df['State'].value_counts()"
   ]
  },
  {
   "cell_type": "code",
   "execution_count": 374,
   "metadata": {},
   "outputs": [
    {
     "data": {
      "text/plain": [
       "'\\nk = 12\\nlocation_list[:k]\\nresult[:k]\\n'"
      ]
     },
     "execution_count": 374,
     "metadata": {},
     "output_type": "execute_result"
    }
   ],
   "source": [
    "'''\n",
    "k = 12\n",
    "location_list[:k]\n",
    "result[:k]\n",
    "'''"
   ]
  },
  {
   "cell_type": "code",
   "execution_count": null,
   "metadata": {},
   "outputs": [],
   "source": []
  },
  {
   "cell_type": "code",
   "execution_count": 375,
   "metadata": {},
   "outputs": [],
   "source": [
    "df.to_csv(\"coordinates_and_states_pull7.csv\",index=False)"
   ]
  },
  {
   "cell_type": "code",
   "execution_count": null,
   "metadata": {},
   "outputs": [],
   "source": []
  },
  {
   "cell_type": "code",
   "execution_count": null,
   "metadata": {},
   "outputs": [],
   "source": []
  },
  {
   "cell_type": "markdown",
   "metadata": {},
   "source": [
    "#### Plotting Data"
   ]
  },
  {
   "cell_type": "code",
   "execution_count": null,
   "metadata": {},
   "outputs": [],
   "source": []
  },
  {
   "cell_type": "code",
   "execution_count": null,
   "metadata": {},
   "outputs": [],
   "source": []
  }
 ],
 "metadata": {
  "kernelspec": {
   "display_name": "web-scraper",
   "language": "python",
   "name": "web-scraper"
  },
  "language_info": {
   "codemirror_mode": {
    "name": "ipython",
    "version": 3
   },
   "file_extension": ".py",
   "mimetype": "text/x-python",
   "name": "python",
   "nbconvert_exporter": "python",
   "pygments_lexer": "ipython3",
   "version": "3.6.3"
  }
 },
 "nbformat": 4,
 "nbformat_minor": 2
}
